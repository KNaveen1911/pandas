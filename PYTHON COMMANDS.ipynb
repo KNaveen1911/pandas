{
 "cells": [
  {
   "cell_type": "code",
   "execution_count": 1,
   "id": "1b1b5bed",
   "metadata": {},
   "outputs": [
    {
     "ename": "SyntaxError",
     "evalue": "invalid syntax (Temp/ipykernel_15492/2477190124.py, line 36)",
     "output_type": "error",
     "traceback": [
      "\u001b[1;36m  File \u001b[1;32m\"C:\\Users\\knani\\AppData\\Local\\Temp/ipykernel_15492/2477190124.py\"\u001b[1;36m, line \u001b[1;32m36\u001b[0m\n\u001b[1;33m    print(df.loc[5:15,[' ',' ' ,....]]) # gives the values of selected columns\u001b[0m\n\u001b[1;37m                                    ^\u001b[0m\n\u001b[1;31mSyntaxError\u001b[0m\u001b[1;31m:\u001b[0m invalid syntax\n"
     ]
    }
   ],
   "source": [
    "pd.set_option(\"display.max_rows\",None) # to sell all  the rows\n",
    "pd.set_option(\"display.max_columns\",None) # to sell all  the columns\n",
    "print(df)\n",
    "print(df.head())        #gives the details of first 5 rows\n",
    "print(df.head(10))      #gives the details of first 10  rows\n",
    "print(df.tail())        #gives the details of last 5  rows\n",
    "print(df[''])           #gives the values of particular one column\n",
    "print(df[[]])           #for more than one column use double list \n",
    "  # pandas attributes\n",
    "print(df.dtypes)        #gives the data types of entire file of all columns\n",
    "print(df[\"\"].dtypes)    #gives specific data type of column\n",
    "print(df.columns)       #gives all the columns names\n",
    "print(df.axes)          #gives the rows and columns names\n",
    "print(df.ndim)          #no of dimensions i.e rows and columns\n",
    "print(df.size)          #no of tuples in the file i.e=100*5=500 i.e rows x columns\n",
    "print(df.shape/info)         #gives the no of rows and columns\n",
    "print(df.values)        #numpy representation of data as alist\n",
    "    # pandas methods\n",
    "print(df.describe())        #gives the description of the data as static\n",
    "print(df.max())             #gives the maximum values of total data\n",
    "print(df[\"\"].max())         #it gives maxmimum value of particular column\n",
    "print(df.mean())            #can also select for specific column\n",
    "print(df[\"\"].mean())        #it gives mean value of particular area\n",
    "print(df.std())             #standard deviation\n",
    "print(df[\" \"].std())        #standard deviation of paricular column\n",
    "print(df[\" \"].unique())     #gives the unique values of the column\n",
    "print(df[\" \"].unique())\n",
    "print(df[\"crop\"].value_counts())    #gives the unique category counts of a column\n",
    "print(df.sample())                  #gives only one random value\n",
    "print(df.sample(n=10))              # gives random values  of any 10\n",
    "#loc[]\n",
    "\n",
    "print(df.loc[5:15])                 # gives all the data between 5-15 with all columns including 15\n",
    "#iloc\n",
    "#print(df.iloc[rows:rows,column:column])\n",
    "print(df.loc[5:15,[' ',' ' ,....]]) # gives the values of selected columns\n",
    "print(df.iloc[10:20,[1,3]])         # gives the data based on index of column number between 10 to 20\n",
    "print(df.iloc[10:20]                # gives all the data between 10- 19with all columns exclude 20\n",
    "print(df.iloc[5])                   # column name as index ##gives the value of the particular row with all columns  \n",
    "print(df.iloc[[1,2,3]])             # give the column name as index number \n",
    "print(df.loc[5])                    # gives the value of the particular row with all columns\n",
    "print(df.column name)               # gives the data of that particular column   \n",
    "print(df.groupby(['column name'])['integer column'].mean/max()) # gives the sequel order and mean of integer column\n",
    "print(df.groupby(['column name'],sort=False)['int column'].mean/max())# gives unsequel order\n",
    "# to fetch the one origin details\n",
    "dt=df.groupby([\"column\"])['int column'].mean()   # data is copied to the variable dt\n",
    "print(\"int column:\",dt[\"specific area\"])         #gives the mean of specific area and area name should be in column data\n",
    "print(df.isnull())          # it gives false if data presents ,true for data empty\n",
    "print(df.isnull().sum())    # gives the data how many null values are present in each column if shell is empty only\n",
    "print(df.notnull())         # it gives false if data is absent,true for data present\n",
    "      \n",
    "# empty spaces will be filled with mean and data will be send to same location \n",
    "df.column name=df.column name.fillna(df.column name.mean())\n",
    "print(df.above given column name)\n",
    "      \n",
    "#drop Na\n",
    "      #Row\n",
    "print(df.dropna)            #it deletes the data having NAN in a row\n",
    "print(df.dropna(how=\"all\")) # how='all' i.e if total row is having nan values then it removes entire row\n",
    "print(df.dropna(thresh=6))  # if row has 8 values but if nan values <=6 it  removes the total row\n",
    "      #column\n",
    "print(df.dropna().iloc[:,[1,2,3]])      \n",
    "print(df.dropna(subset=['column name']))#it removes the nan values of columnname  of entire row\n",
    "print(df.dropna(axis=1,how='all'))      #if total column has nan values it removes t.column\n",
    "print(df.dropna(axis=1))                #if a column has 1 nan value total column will be removed\n",
    "print(df.dropna(axis=1,thresh=8))       #if a column has less than 8 values then t.column will be deleted\n",
    "##\n",
    "dt=df.sort_values(by='column name')     # gives in ascending order\n",
    "print(dt.column name.head(10))\n",
    "#print(dt.head()\n",
    "da=df.sort_values(by=['column name'],ascending=False) # gives desending order\n",
    "print(da.column name.head(10))\n",
    "print(df.movie_title.str.strip()) # key error to remove spaces\n",
    "##\n",
    "print(df.drop(columns=[' ']))\n",
    "\n"
   ]
  },
  {
   "cell_type": "code",
   "execution_count": null,
   "id": "cd9bcae0",
   "metadata": {},
   "outputs": [],
   "source": []
  }
 ],
 "metadata": {
  "kernelspec": {
   "display_name": "Python 3 (ipykernel)",
   "language": "python",
   "name": "python3"
  },
  "language_info": {
   "codemirror_mode": {
    "name": "ipython",
    "version": 3
   },
   "file_extension": ".py",
   "mimetype": "text/x-python",
   "name": "python",
   "nbconvert_exporter": "python",
   "pygments_lexer": "ipython3",
   "version": "3.9.7"
  }
 },
 "nbformat": 4,
 "nbformat_minor": 5
}
