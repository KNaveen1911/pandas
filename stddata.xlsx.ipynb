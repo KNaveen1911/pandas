{
 "cells": [
  {
   "cell_type": "code",
   "execution_count": 1,
   "id": "173b01cc",
   "metadata": {},
   "outputs": [],
   "source": [
    "import pandas as pd\n",
    "# xlsx data is in the form of excel\n",
    "\n",
    "df=pd.read_excel(\"data/stddata.xlsx\")"
   ]
  },
  {
   "cell_type": "code",
   "execution_count": 2,
   "id": "147c4006",
   "metadata": {},
   "outputs": [
    {
     "name": "stdout",
     "output_type": "stream",
     "text": [
      "   regno  name   phone address    m1    m2    m3    m4\n",
      "0    101  anand    999     hyd  87.0  55.0   NaN  44.0\n",
      "1    105    aaa    555     vij  77.0  66.0  99.0  99.0\n",
      "2    109    rrr    444     vik   NaN  78.0  88.0  88.0\n",
      "3    107    sss    888     sec  69.0  85.0  58.0   NaN\n",
      "4    102    bbb    111     ant  89.0   NaN  99.0  99.0\n"
     ]
    }
   ],
   "source": [
    "print(df.head())"
   ]
  },
  {
   "cell_type": "code",
   "execution_count": null,
   "id": "7a1067b1",
   "metadata": {},
   "outputs": [],
   "source": []
  },
  {
   "cell_type": "code",
   "execution_count": 3,
   "id": "890ed82b",
   "metadata": {},
   "outputs": [
    {
     "name": "stdout",
     "output_type": "stream",
     "text": [
      "regno      0\n",
      "name       1\n",
      "phone      0\n",
      "address    1\n",
      "m1         2\n",
      "m2         1\n",
      "m3         2\n",
      "m4         3\n",
      "dtype: int64\n"
     ]
    }
   ],
   "source": [
    "print(df.isnull().sum())"
   ]
  },
  {
   "cell_type": "code",
   "execution_count": 4,
   "id": "3622ba55",
   "metadata": {},
   "outputs": [],
   "source": [
    "df.m1=df.m1.fillna(df.m1.mean())\n",
    "df.m2=df.m2.fillna(df.m2.mean())\n",
    "df.m3=df.m3.fillna(df.m3.mean())\n",
    "df.m4=df.m4.fillna(df.m4.mean())"
   ]
  },
  {
   "cell_type": "code",
   "execution_count": 6,
   "id": "48289ffa",
   "metadata": {},
   "outputs": [
    {
     "name": "stdout",
     "output_type": "stream",
     "text": [
      "regno      0\n",
      "name       1\n",
      "phone      0\n",
      "address    1\n",
      "m1         0\n",
      "m2         0\n",
      "m3         0\n",
      "m4         0\n",
      "dtype: int64\n"
     ]
    }
   ],
   "source": [
    "print(df.isnull().sum())\n"
   ]
  },
  {
   "cell_type": "markdown",
   "id": "fc04f505",
   "metadata": {},
   "source": [
    "# rows"
   ]
  },
  {
   "cell_type": "code",
   "execution_count": 8,
   "id": "b105b3bf",
   "metadata": {},
   "outputs": [
    {
     "name": "stdout",
     "output_type": "stream",
     "text": [
      "   regno  name   phone address    m1    m2    m3         m4\n",
      "0    101  anand    999     hyd  87.0  55.0  86.0  44.000000\n",
      "1    105    aaa    555     vij  77.0  66.0  99.0  99.000000\n",
      "2    109    rrr    444     vik  76.0  78.0  88.0  88.000000\n",
      "3    107    sss    888     sec  69.0  85.0  58.0  80.142857\n",
      "4    102    bbb    111     ant  89.0  72.0  99.0  99.000000\n",
      "5    201  anand    999     hyd  87.0  55.0  86.0  44.000000\n",
      "6    202    aaa    555     vij  76.0  66.0  99.0  80.142857\n",
      "7    203    rrr    444     vik  89.0  78.0  88.0  88.000000\n",
      "9    205    bbb    111     ant  77.0  88.0  99.0  99.000000\n"
     ]
    }
   ],
   "source": [
    "print(df.dropna())\n",
    "# after dropna i.e it removes nan value of entire row\n"
   ]
  },
  {
   "cell_type": "code",
   "execution_count": 9,
   "id": "51636194",
   "metadata": {},
   "outputs": [
    {
     "name": "stdout",
     "output_type": "stream",
     "text": [
      "   regno  name   phone address    m1    m2    m3         m4\n",
      "0    101  anand    999     hyd  87.0  55.0  86.0  44.000000\n",
      "1    105    aaa    555     vij  77.0  66.0  99.0  99.000000\n",
      "2    109    rrr    444     vik  76.0  78.0  88.0  88.000000\n",
      "3    107    sss    888     sec  69.0  85.0  58.0  80.142857\n",
      "4    102    bbb    111     ant  89.0  72.0  99.0  99.000000\n",
      "5    201  anand    999     hyd  87.0  55.0  86.0  44.000000\n",
      "6    202    aaa    555     vij  76.0  66.0  99.0  80.142857\n",
      "7    203    rrr    444     vik  89.0  78.0  88.0  88.000000\n",
      "8    204    NaN    888     NaN  33.0  77.0  58.0  80.142857\n",
      "9    205    bbb    111     ant  77.0  88.0  99.0  99.000000\n"
     ]
    }
   ],
   "source": [
    "print(df.head(14))"
   ]
  },
  {
   "cell_type": "code",
   "execution_count": 11,
   "id": "f3682663",
   "metadata": {},
   "outputs": [
    {
     "name": "stdout",
     "output_type": "stream",
     "text": [
      "   regno  name   phone address    m1    m2    m3         m4\n",
      "0    101  anand    999     hyd  87.0  55.0  86.0  44.000000\n",
      "1    105    aaa    555     vij  77.0  66.0  99.0  99.000000\n",
      "2    109    rrr    444     vik  76.0  78.0  88.0  88.000000\n",
      "3    107    sss    888     sec  69.0  85.0  58.0  80.142857\n",
      "4    102    bbb    111     ant  89.0  72.0  99.0  99.000000\n",
      "5    201  anand    999     hyd  87.0  55.0  86.0  44.000000\n",
      "6    202    aaa    555     vij  76.0  66.0  99.0  80.142857\n",
      "7    203    rrr    444     vik  89.0  78.0  88.0  88.000000\n",
      "8    204    NaN    888     NaN  33.0  77.0  58.0  80.142857\n",
      "9    205    bbb    111     ant  77.0  88.0  99.0  99.000000\n"
     ]
    }
   ],
   "source": [
    "print(df.dropna(how=\"all\")) \n",
    "# how='all' i.e if total row is having nan values then it removes entire row\n"
   ]
  },
  {
   "cell_type": "code",
   "execution_count": 13,
   "id": "f411c021",
   "metadata": {},
   "outputs": [
    {
     "name": "stdout",
     "output_type": "stream",
     "text": [
      "   regno  name   phone address    m1    m2    m3         m4\n",
      "0    101  anand    999     hyd  87.0  55.0  86.0  44.000000\n",
      "1    105    aaa    555     vij  77.0  66.0  99.0  99.000000\n",
      "2    109    rrr    444     vik  76.0  78.0  88.0  88.000000\n",
      "3    107    sss    888     sec  69.0  85.0  58.0  80.142857\n",
      "4    102    bbb    111     ant  89.0  72.0  99.0  99.000000\n",
      "5    201  anand    999     hyd  87.0  55.0  86.0  44.000000\n",
      "6    202    aaa    555     vij  76.0  66.0  99.0  80.142857\n",
      "7    203    rrr    444     vik  89.0  78.0  88.0  88.000000\n",
      "8    204    NaN    888     NaN  33.0  77.0  58.0  80.142857\n",
      "9    205    bbb    111     ant  77.0  88.0  99.0  99.000000\n"
     ]
    }
   ],
   "source": [
    "print(df.dropna(thresh=6))\n",
    "# if row has less than 6 values of nan it  removes the total row\n"
   ]
  },
  {
   "cell_type": "code",
   "execution_count": null,
   "id": "c865cf23",
   "metadata": {},
   "outputs": [],
   "source": []
  },
  {
   "cell_type": "markdown",
   "id": "8ac64c5f",
   "metadata": {},
   "source": [
    "# columns"
   ]
  },
  {
   "cell_type": "code",
   "execution_count": 14,
   "id": "e1998c50",
   "metadata": {},
   "outputs": [
    {
     "name": "stdout",
     "output_type": "stream",
     "text": [
      "   regno  name   phone address    m1    m2    m3         m4\n",
      "0    101  anand    999     hyd  87.0  55.0  86.0  44.000000\n",
      "1    105    aaa    555     vij  77.0  66.0  99.0  99.000000\n",
      "2    109    rrr    444     vik  76.0  78.0  88.0  88.000000\n",
      "3    107    sss    888     sec  69.0  85.0  58.0  80.142857\n",
      "4    102    bbb    111     ant  89.0  72.0  99.0  99.000000\n",
      "5    201  anand    999     hyd  87.0  55.0  86.0  44.000000\n",
      "6    202    aaa    555     vij  76.0  66.0  99.0  80.142857\n",
      "7    203    rrr    444     vik  89.0  78.0  88.0  88.000000\n",
      "8    204    NaN    888     NaN  33.0  77.0  58.0  80.142857\n",
      "9    205    bbb    111     ant  77.0  88.0  99.0  99.000000\n"
     ]
    }
   ],
   "source": [
    "print(df.head(14))"
   ]
  },
  {
   "cell_type": "code",
   "execution_count": 15,
   "id": "6a587dc8",
   "metadata": {},
   "outputs": [
    {
     "name": "stdout",
     "output_type": "stream",
     "text": [
      "   regno  name   phone address    m1    m2    m3         m4\n",
      "0    101  anand    999     hyd  87.0  55.0  86.0  44.000000\n",
      "1    105    aaa    555     vij  77.0  66.0  99.0  99.000000\n",
      "2    109    rrr    444     vik  76.0  78.0  88.0  88.000000\n",
      "3    107    sss    888     sec  69.0  85.0  58.0  80.142857\n",
      "4    102    bbb    111     ant  89.0  72.0  99.0  99.000000\n",
      "5    201  anand    999     hyd  87.0  55.0  86.0  44.000000\n",
      "6    202    aaa    555     vij  76.0  66.0  99.0  80.142857\n",
      "7    203    rrr    444     vik  89.0  78.0  88.0  88.000000\n",
      "8    204    NaN    888     NaN  33.0  77.0  58.0  80.142857\n",
      "9    205    bbb    111     ant  77.0  88.0  99.0  99.000000\n"
     ]
    }
   ],
   "source": [
    "print(df.dropna(subset=['m1']))  \n",
    "#it removes the nan values of m1 column  of entire row\n"
   ]
  },
  {
   "cell_type": "code",
   "execution_count": 16,
   "id": "ca09e887",
   "metadata": {},
   "outputs": [
    {
     "name": "stdout",
     "output_type": "stream",
     "text": [
      "   regno  name   phone address    m1    m2    m3         m4\n",
      "0    101  anand    999     hyd  87.0  55.0  86.0  44.000000\n",
      "1    105    aaa    555     vij  77.0  66.0  99.0  99.000000\n",
      "2    109    rrr    444     vik  76.0  78.0  88.0  88.000000\n",
      "3    107    sss    888     sec  69.0  85.0  58.0  80.142857\n",
      "4    102    bbb    111     ant  89.0  72.0  99.0  99.000000\n",
      "5    201  anand    999     hyd  87.0  55.0  86.0  44.000000\n",
      "6    202    aaa    555     vij  76.0  66.0  99.0  80.142857\n",
      "7    203    rrr    444     vik  89.0  78.0  88.0  88.000000\n",
      "8    204    NaN    888     NaN  33.0  77.0  58.0  80.142857\n",
      "9    205    bbb    111     ant  77.0  88.0  99.0  99.000000\n"
     ]
    }
   ],
   "source": [
    "print(df.dropna(subset=['m1','m2','m3','m4']))"
   ]
  },
  {
   "cell_type": "code",
   "execution_count": 17,
   "id": "9732a6bb",
   "metadata": {},
   "outputs": [
    {
     "name": "stdout",
     "output_type": "stream",
     "text": [
      "   regno  name   phone address    m1    m2    m3         m4\n",
      "0    101  anand    999     hyd  87.0  55.0  86.0  44.000000\n",
      "1    105    aaa    555     vij  77.0  66.0  99.0  99.000000\n",
      "2    109    rrr    444     vik  76.0  78.0  88.0  88.000000\n",
      "3    107    sss    888     sec  69.0  85.0  58.0  80.142857\n",
      "4    102    bbb    111     ant  89.0  72.0  99.0  99.000000\n",
      "5    201  anand    999     hyd  87.0  55.0  86.0  44.000000\n",
      "6    202    aaa    555     vij  76.0  66.0  99.0  80.142857\n",
      "7    203    rrr    444     vik  89.0  78.0  88.0  88.000000\n",
      "8    204    NaN    888     NaN  33.0  77.0  58.0  80.142857\n",
      "9    205    bbb    111     ant  77.0  88.0  99.0  99.000000\n"
     ]
    }
   ],
   "source": [
    "print(df.dropna(axis=1,how='all'))\n",
    "# if total column has nan values it removes t.column\n"
   ]
  },
  {
   "cell_type": "code",
   "execution_count": 18,
   "id": "94e74665",
   "metadata": {},
   "outputs": [
    {
     "name": "stdout",
     "output_type": "stream",
     "text": [
      "   regno  phone    m1    m2    m3         m4\n",
      "0    101    999  87.0  55.0  86.0  44.000000\n",
      "1    105    555  77.0  66.0  99.0  99.000000\n",
      "2    109    444  76.0  78.0  88.0  88.000000\n",
      "3    107    888  69.0  85.0  58.0  80.142857\n",
      "4    102    111  89.0  72.0  99.0  99.000000\n",
      "5    201    999  87.0  55.0  86.0  44.000000\n",
      "6    202    555  76.0  66.0  99.0  80.142857\n",
      "7    203    444  89.0  78.0  88.0  88.000000\n",
      "8    204    888  33.0  77.0  58.0  80.142857\n",
      "9    205    111  77.0  88.0  99.0  99.000000\n"
     ]
    }
   ],
   "source": [
    "print(df.dropna(axis=1))\n",
    "# if a column has 1 nan value total column will be removed\n"
   ]
  },
  {
   "cell_type": "code",
   "execution_count": 19,
   "id": "cd1c6dff",
   "metadata": {},
   "outputs": [
    {
     "name": "stdout",
     "output_type": "stream",
     "text": [
      "   regno  name   phone address    m1    m2    m3         m4\n",
      "0    101  anand    999     hyd  87.0  55.0  86.0  44.000000\n",
      "1    105    aaa    555     vij  77.0  66.0  99.0  99.000000\n",
      "2    109    rrr    444     vik  76.0  78.0  88.0  88.000000\n",
      "3    107    sss    888     sec  69.0  85.0  58.0  80.142857\n",
      "4    102    bbb    111     ant  89.0  72.0  99.0  99.000000\n",
      "5    201  anand    999     hyd  87.0  55.0  86.0  44.000000\n",
      "6    202    aaa    555     vij  76.0  66.0  99.0  80.142857\n",
      "7    203    rrr    444     vik  89.0  78.0  88.0  88.000000\n",
      "8    204    NaN    888     NaN  33.0  77.0  58.0  80.142857\n",
      "9    205    bbb    111     ant  77.0  88.0  99.0  99.000000\n"
     ]
    }
   ],
   "source": [
    "print(df.dropna(axis=1,thresh=8)) # if a column has less than 8 values then t.column will be deleted\n",
    "\n"
   ]
  },
  {
   "cell_type": "code",
   "execution_count": null,
   "id": "f43252ee",
   "metadata": {},
   "outputs": [],
   "source": []
  }
 ],
 "metadata": {
  "kernelspec": {
   "display_name": "Python 3 (ipykernel)",
   "language": "python",
   "name": "python3"
  },
  "language_info": {
   "codemirror_mode": {
    "name": "ipython",
    "version": 3
   },
   "file_extension": ".py",
   "mimetype": "text/x-python",
   "name": "python",
   "nbconvert_exporter": "python",
   "pygments_lexer": "ipython3",
   "version": "3.9.7"
  }
 },
 "nbformat": 4,
 "nbformat_minor": 5
}
