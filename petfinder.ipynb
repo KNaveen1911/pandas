{
 "cells": [
  {
   "cell_type": "code",
   "execution_count": 1,
   "id": "f8d0cd1e",
   "metadata": {},
   "outputs": [],
   "source": [
    "import pandas as pd"
   ]
  },
  {
   "cell_type": "code",
   "execution_count": 2,
   "id": "147ec248",
   "metadata": {},
   "outputs": [
    {
     "name": "stdout",
     "output_type": "stream",
     "text": [
      "(11537, 14)\n"
     ]
    }
   ],
   "source": [
    "df=pd.read_csv(\"data/petfinder-mini.csv\")\n",
    "print(df.shape)"
   ]
  },
  {
   "cell_type": "code",
   "execution_count": 3,
   "id": "710f9b10",
   "metadata": {},
   "outputs": [
    {
     "name": "stdout",
     "output_type": "stream",
     "text": [
      "<class 'pandas.core.frame.DataFrame'>\n",
      "RangeIndex: 11537 entries, 0 to 11536\n",
      "Data columns (total 14 columns):\n",
      " #   Column         Non-Null Count  Dtype  \n",
      "---  ------         --------------  -----  \n",
      " 0   Type           11535 non-null  object \n",
      " 1   Age            11476 non-null  float64\n",
      " 2   Breed1         11535 non-null  object \n",
      " 3   Gender         11533 non-null  object \n",
      " 4   Color1         11534 non-null  object \n",
      " 5   Color2         11534 non-null  object \n",
      " 6   MaturitySize   11534 non-null  object \n",
      " 7   FurLength      11533 non-null  object \n",
      " 8   Vaccinated     11533 non-null  object \n",
      " 9   Sterilized     11533 non-null  object \n",
      " 10  Health         11535 non-null  object \n",
      " 11  Fee            11524 non-null  object \n",
      " 12  PhotoAmt       11499 non-null  float64\n",
      " 13  AdoptionSpeed  11473 non-null  float64\n",
      "dtypes: float64(3), object(11)\n",
      "memory usage: 1.2+ MB\n"
     ]
    }
   ],
   "source": [
    "df.info()"
   ]
  },
  {
   "cell_type": "code",
   "execution_count": 4,
   "id": "0d141667",
   "metadata": {},
   "outputs": [
    {
     "data": {
      "text/plain": [
       "Type              2\n",
       "Age              61\n",
       "Breed1            2\n",
       "Gender            4\n",
       "Color1            3\n",
       "Color2            3\n",
       "MaturitySize      3\n",
       "FurLength         4\n",
       "Vaccinated        4\n",
       "Sterilized        4\n",
       "Health            2\n",
       "Fee              13\n",
       "PhotoAmt         38\n",
       "AdoptionSpeed    64\n",
       "dtype: int64"
      ]
     },
     "execution_count": 4,
     "metadata": {},
     "output_type": "execute_result"
    }
   ],
   "source": [
    "df.isnull().sum()"
   ]
  },
  {
   "cell_type": "code",
   "execution_count": 5,
   "id": "c8788163",
   "metadata": {},
   "outputs": [
    {
     "data": {
      "text/html": [
       "<div>\n",
       "<style scoped>\n",
       "    .dataframe tbody tr th:only-of-type {\n",
       "        vertical-align: middle;\n",
       "    }\n",
       "\n",
       "    .dataframe tbody tr th {\n",
       "        vertical-align: top;\n",
       "    }\n",
       "\n",
       "    .dataframe thead th {\n",
       "        text-align: right;\n",
       "    }\n",
       "</style>\n",
       "<table border=\"1\" class=\"dataframe\">\n",
       "  <thead>\n",
       "    <tr style=\"text-align: right;\">\n",
       "      <th></th>\n",
       "      <th>Type</th>\n",
       "      <th>Age</th>\n",
       "      <th>Breed1</th>\n",
       "      <th>Gender</th>\n",
       "      <th>Color1</th>\n",
       "      <th>Color2</th>\n",
       "      <th>MaturitySize</th>\n",
       "      <th>FurLength</th>\n",
       "      <th>Vaccinated</th>\n",
       "      <th>Sterilized</th>\n",
       "      <th>Health</th>\n",
       "      <th>Fee</th>\n",
       "      <th>PhotoAmt</th>\n",
       "      <th>AdoptionSpeed</th>\n",
       "    </tr>\n",
       "  </thead>\n",
       "  <tbody>\n",
       "    <tr>\n",
       "      <th>0</th>\n",
       "      <td>Cat</td>\n",
       "      <td>3.0</td>\n",
       "      <td>Tabby</td>\n",
       "      <td>Male</td>\n",
       "      <td>Black</td>\n",
       "      <td>White</td>\n",
       "      <td>Small</td>\n",
       "      <td>Short</td>\n",
       "      <td>No</td>\n",
       "      <td>No</td>\n",
       "      <td>Healthy</td>\n",
       "      <td>100</td>\n",
       "      <td>1.0</td>\n",
       "      <td>2.0</td>\n",
       "    </tr>\n",
       "    <tr>\n",
       "      <th>1</th>\n",
       "      <td>Cat</td>\n",
       "      <td>1.0</td>\n",
       "      <td>Domestic Medium Hair</td>\n",
       "      <td>Male</td>\n",
       "      <td>Black</td>\n",
       "      <td>Brown</td>\n",
       "      <td>Medium</td>\n",
       "      <td>Medium</td>\n",
       "      <td>Not Sure</td>\n",
       "      <td>Not Sure</td>\n",
       "      <td>Healthy</td>\n",
       "      <td>0</td>\n",
       "      <td>2.0</td>\n",
       "      <td>0.0</td>\n",
       "    </tr>\n",
       "    <tr>\n",
       "      <th>2</th>\n",
       "      <td>Dog</td>\n",
       "      <td>1.0</td>\n",
       "      <td>Mixed Breed</td>\n",
       "      <td>Male</td>\n",
       "      <td>Brown</td>\n",
       "      <td>White</td>\n",
       "      <td>Medium</td>\n",
       "      <td>Medium</td>\n",
       "      <td>Yes</td>\n",
       "      <td>No</td>\n",
       "      <td>Healthy</td>\n",
       "      <td>0</td>\n",
       "      <td>7.0</td>\n",
       "      <td>3.0</td>\n",
       "    </tr>\n",
       "    <tr>\n",
       "      <th>3</th>\n",
       "      <td>Dog</td>\n",
       "      <td>4.0</td>\n",
       "      <td>Mixed Breed</td>\n",
       "      <td>Female</td>\n",
       "      <td>Black</td>\n",
       "      <td>Brown</td>\n",
       "      <td>Medium</td>\n",
       "      <td>Short</td>\n",
       "      <td>Yes</td>\n",
       "      <td>No</td>\n",
       "      <td>Healthy</td>\n",
       "      <td>150</td>\n",
       "      <td>8.0</td>\n",
       "      <td>2.0</td>\n",
       "    </tr>\n",
       "    <tr>\n",
       "      <th>4</th>\n",
       "      <td>Dog</td>\n",
       "      <td>1.0</td>\n",
       "      <td>Mixed Breed</td>\n",
       "      <td>Male</td>\n",
       "      <td>Black</td>\n",
       "      <td>No Color</td>\n",
       "      <td>Medium</td>\n",
       "      <td>Short</td>\n",
       "      <td>No</td>\n",
       "      <td>No</td>\n",
       "      <td>Healthy</td>\n",
       "      <td>0</td>\n",
       "      <td>3.0</td>\n",
       "      <td>2.0</td>\n",
       "    </tr>\n",
       "  </tbody>\n",
       "</table>\n",
       "</div>"
      ],
      "text/plain": [
       "  Type  Age                Breed1  Gender Color1    Color2 MaturitySize  \\\n",
       "0  Cat  3.0                 Tabby    Male  Black     White        Small   \n",
       "1  Cat  1.0  Domestic Medium Hair    Male  Black     Brown       Medium   \n",
       "2  Dog  1.0           Mixed Breed    Male  Brown     White       Medium   \n",
       "3  Dog  4.0           Mixed Breed  Female  Black     Brown       Medium   \n",
       "4  Dog  1.0           Mixed Breed    Male  Black  No Color       Medium   \n",
       "\n",
       "  FurLength Vaccinated Sterilized   Health  Fee  PhotoAmt  AdoptionSpeed  \n",
       "0     Short         No         No  Healthy  100       1.0            2.0  \n",
       "1    Medium   Not Sure   Not Sure  Healthy    0       2.0            0.0  \n",
       "2    Medium        Yes         No  Healthy    0       7.0            3.0  \n",
       "3     Short        Yes         No  Healthy  150       8.0            2.0  \n",
       "4     Short         No         No  Healthy    0       3.0            2.0  "
      ]
     },
     "execution_count": 5,
     "metadata": {},
     "output_type": "execute_result"
    }
   ],
   "source": [
    "df.head(5)"
   ]
  },
  {
   "cell_type": "code",
   "execution_count": 6,
   "id": "1fd13932",
   "metadata": {},
   "outputs": [],
   "source": [
    "df.PhotoAmt=df.PhotoAmt.fillna(df.PhotoAmt.mean())\n",
    "df.AdoptionSpeed=df.AdoptionSpeed.fillna(df.AdoptionSpeed.mean())\n"
   ]
  },
  {
   "cell_type": "code",
   "execution_count": 7,
   "id": "9f9dada4",
   "metadata": {},
   "outputs": [
    {
     "name": "stdout",
     "output_type": "stream",
     "text": [
      "Type              2\n",
      "Age              61\n",
      "Breed1            2\n",
      "Gender            4\n",
      "Color1            3\n",
      "Color2            3\n",
      "MaturitySize      3\n",
      "FurLength         4\n",
      "Vaccinated        4\n",
      "Sterilized        4\n",
      "Health            2\n",
      "Fee              13\n",
      "PhotoAmt          0\n",
      "AdoptionSpeed     0\n",
      "dtype: int64\n"
     ]
    }
   ],
   "source": [
    "print(df.isnull().sum())"
   ]
  },
  {
   "cell_type": "code",
   "execution_count": 8,
   "id": "4abcce5e",
   "metadata": {},
   "outputs": [],
   "source": [
    "df=df.dropna(subset=['Age','Fee','Gender',\n",
    "                     'Color1','Color2',\n",
    "                     'MaturitySize','FurLength',\n",
    "                     'Vaccinated','Sterilized'])\n"
   ]
  },
  {
   "cell_type": "code",
   "execution_count": 9,
   "id": "d1487459",
   "metadata": {},
   "outputs": [
    {
     "name": "stdout",
     "output_type": "stream",
     "text": [
      "Type             0\n",
      "Age              0\n",
      "Breed1           0\n",
      "Gender           0\n",
      "Color1           0\n",
      "Color2           0\n",
      "MaturitySize     0\n",
      "FurLength        0\n",
      "Vaccinated       0\n",
      "Sterilized       0\n",
      "Health           0\n",
      "Fee              0\n",
      "PhotoAmt         0\n",
      "AdoptionSpeed    0\n",
      "dtype: int64\n"
     ]
    }
   ],
   "source": [
    "print(df.isnull().sum())"
   ]
  },
  {
   "cell_type": "code",
   "execution_count": 10,
   "id": "4993a458",
   "metadata": {},
   "outputs": [],
   "source": [
    "df.to_csv(\"data/cleaned data/petfinder1.csv\")"
   ]
  },
  {
   "cell_type": "code",
   "execution_count": null,
   "id": "0a673638",
   "metadata": {},
   "outputs": [],
   "source": []
  }
 ],
 "metadata": {
  "kernelspec": {
   "display_name": "Python 3 (ipykernel)",
   "language": "python",
   "name": "python3"
  },
  "language_info": {
   "codemirror_mode": {
    "name": "ipython",
    "version": 3
   },
   "file_extension": ".py",
   "mimetype": "text/x-python",
   "name": "python",
   "nbconvert_exporter": "python",
   "pygments_lexer": "ipython3",
   "version": "3.9.7"
  }
 },
 "nbformat": 4,
 "nbformat_minor": 5
}
