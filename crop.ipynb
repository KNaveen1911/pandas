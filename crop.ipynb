{
 "cells": [
  {
   "cell_type": "code",
   "execution_count": 1,
   "id": "bdef3391",
   "metadata": {},
   "outputs": [],
   "source": [
    "import pandas as pd\n",
    "df1= pd.read_csv(\"data/crops.csv\")"
   ]
  },
  {
   "cell_type": "code",
   "execution_count": 2,
   "id": "9fcf45b0",
   "metadata": {},
   "outputs": [
    {
     "name": "stdout",
     "output_type": "stream",
     "text": [
      "   crop     year   area   msp  yield(quintal)\n",
      "0  rice  2014-15  15759  1360          378216\n",
      "1  rice  2015-16  15987  1414          383688\n",
      "2  rice  2016-17  15747  1470          377928\n",
      "3  rice  2017-18  15958  1550          382992\n",
      "4  rice  2018-19  15848  1750          380352\n"
     ]
    }
   ],
   "source": [
    "print(df1.head())"
   ]
  },
  {
   "cell_type": "code",
   "execution_count": 3,
   "id": "a99ce6f6",
   "metadata": {},
   "outputs": [
    {
     "name": "stdout",
     "output_type": "stream",
     "text": [
      "None\n"
     ]
    }
   ],
   "source": [
    "df=pd.set_option(\"display.max_rows\",None) \n",
    "# to sell all  the rows\n",
    "print(df)"
   ]
  },
  {
   "cell_type": "code",
   "execution_count": 4,
   "id": "9dd4ba36",
   "metadata": {},
   "outputs": [
    {
     "name": "stdout",
     "output_type": "stream",
     "text": [
      "None\n"
     ]
    }
   ],
   "source": [
    "df=pd.set_option(\"display.max_columns\",None) # to sell all  the columns\n",
    "print(df)"
   ]
  },
  {
   "cell_type": "code",
   "execution_count": 5,
   "id": "82af4352",
   "metadata": {},
   "outputs": [
    {
     "name": "stdout",
     "output_type": "stream",
     "text": [
      "   crop     year   area   msp  yield(quintal)\n",
      "0  rice  2014-15  15759  1360          378216\n",
      "1  rice  2015-16  15987  1414          383688\n",
      "2  rice  2016-17  15747  1470          377928\n",
      "3  rice  2017-18  15958  1550          382992\n",
      "4  rice  2018-19  15848  1750          380352\n"
     ]
    }
   ],
   "source": [
    "print(df1.head())"
   ]
  },
  {
   "cell_type": "code",
   "execution_count": 6,
   "id": "f2340207",
   "metadata": {},
   "outputs": [
    {
     "name": "stdout",
     "output_type": "stream",
     "text": [
      "    crop     year   area   msp  yield(quintal)\n",
      "0   rice  2014-15  15759  1360          378216\n",
      "1   rice  2015-16  15987  1414          383688\n",
      "2   rice  2016-17  15747  1470          377928\n",
      "3   rice  2017-18  15958  1550          382992\n",
      "4   rice  2018-19  15848  1750          380352\n",
      "5  maize  2014-15   1199  1310           29975\n",
      "6  maize  2015-16   1227  1325           30675\n",
      "7  maize  2016-17   1325  1365           33125\n",
      "8  maize  2017-18   1369  1425           34225\n",
      "9  maize  2018-19    951  1700           23775\n"
     ]
    }
   ],
   "source": [
    "print(df1.head(10))"
   ]
  },
  {
   "cell_type": "code",
   "execution_count": 7,
   "id": "c58bdb18",
   "metadata": {},
   "outputs": [
    {
     "name": "stdout",
     "output_type": "stream",
     "text": [
      "             crop     year  area     msp  yield(quintal)\n",
      "95  errachandanam  2014-15     5  150000              10\n",
      "96  errachandanam  2015-16     5  160000              10\n",
      "97  errachandanam  2016-17     9  190000              10\n",
      "98  errachandanam  2017-18    10  195000              10\n",
      "99  errachandanam  2018-19    12  209000              10\n"
     ]
    }
   ],
   "source": [
    "print(df1.tail())"
   ]
  },
  {
   "cell_type": "code",
   "execution_count": 8,
   "id": "38a93bd8",
   "metadata": {},
   "outputs": [
    {
     "name": "stdout",
     "output_type": "stream",
     "text": [
      "0              rice\n",
      "1              rice\n",
      "2              rice\n",
      "3              rice\n",
      "4              rice\n",
      "5             maize\n",
      "6             maize\n",
      "7             maize\n",
      "8             maize\n",
      "9             maize\n",
      "10        greengram\n",
      "11        greengram\n",
      "12        greengram\n",
      "13        greengram\n",
      "14        greengram\n",
      "15          redgram\n",
      "16         red gram\n",
      "17         red gram\n",
      "18         red gram\n",
      "19         red gram\n",
      "20           cotton\n",
      "21           cotton\n",
      "22           cotton\n",
      "23           cotton\n",
      "24           cotton\n",
      "25         turmeric\n",
      "26         turmeric\n",
      "27         turmeric\n",
      "28         turmeric\n",
      "29         turmeric\n",
      "30        sugarcane\n",
      "31        sugarcane\n",
      "32        sugarcane\n",
      "33        sugarcane\n",
      "34        sugarcane\n",
      "35            mango\n",
      "36            mango\n",
      "37            mango\n",
      "38            mango\n",
      "39            mango\n",
      "40       cashew nut\n",
      "41       cashew nut\n",
      "42       cashew nut\n",
      "43       cashew nut\n",
      "44       cashew nut\n",
      "45           banana\n",
      "46           banana\n",
      "47           banana\n",
      "48           banana\n",
      "49           banana\n",
      "50            guava\n",
      "51            guava\n",
      "52            guava\n",
      "53            guava\n",
      "54            guava\n",
      "55            lemon\n",
      "56            lemon\n",
      "57            lemon\n",
      "58            lemon\n",
      "59            lemon\n",
      "60          coconut\n",
      "61          coconut\n",
      "62          coconut\n",
      "63          coconut\n",
      "64          coconut\n",
      "65           sapota\n",
      "66           sapota\n",
      "67           sapota\n",
      "68           sapota\n",
      "69           sapota\n",
      "70          palmoil\n",
      "71          palmoil\n",
      "72          palmoil\n",
      "73          palmoil\n",
      "74          palmoil\n",
      "75        eukalptus\n",
      "76        eukalptus\n",
      "77        eukalytus\n",
      "78        eukalytus\n",
      "79        eukalytus\n",
      "80          malbari\n",
      "81          malbari\n",
      "82          malbari\n",
      "83          malbari\n",
      "84          malbari\n",
      "85       chedu vepa\n",
      "86       chedu vepa\n",
      "87       chedu vepa\n",
      "88       chedu vepa\n",
      "89       chedu vepa\n",
      "90            tekku\n",
      "91            tekku\n",
      "92            tekku\n",
      "93            tekku\n",
      "94            tekku\n",
      "95    errachandanam\n",
      "96    errachandanam\n",
      "97    errachandanam\n",
      "98    errachandanam\n",
      "99    errachandanam\n",
      "Name: crop, dtype: object\n"
     ]
    }
   ],
   "source": [
    "print(df1['crop'])"
   ]
  },
  {
   "cell_type": "code",
   "execution_count": 9,
   "id": "0d0a906b",
   "metadata": {},
   "outputs": [
    {
     "name": "stdout",
     "output_type": "stream",
     "text": [
      "   crop   area   msp\n",
      "0  rice  15759  1360\n",
      "1  rice  15987  1414\n",
      "2  rice  15747  1470\n",
      "3  rice  15958  1550\n",
      "4  rice  15848  1750\n"
     ]
    }
   ],
   "source": [
    "print(df1[['crop','area','msp']].head()) "
   ]
  },
  {
   "cell_type": "code",
   "execution_count": 10,
   "id": "218976cf",
   "metadata": {},
   "outputs": [
    {
     "name": "stdout",
     "output_type": "stream",
     "text": [
      "crop              object\n",
      "year              object\n",
      "area               int64\n",
      "msp                int64\n",
      "yield(quintal)     int64\n",
      "dtype: object\n"
     ]
    }
   ],
   "source": [
    "print(df1.dtypes)"
   ]
  },
  {
   "cell_type": "code",
   "execution_count": 11,
   "id": "8407c994",
   "metadata": {},
   "outputs": [
    {
     "name": "stdout",
     "output_type": "stream",
     "text": [
      "int64\n"
     ]
    }
   ],
   "source": [
    "print(df1[\"area\"].dtypes)"
   ]
  },
  {
   "cell_type": "code",
   "execution_count": 12,
   "id": "2c379533",
   "metadata": {},
   "outputs": [
    {
     "name": "stdout",
     "output_type": "stream",
     "text": [
      "Index(['crop', 'year', 'area', 'msp', 'yield(quintal)'], dtype='object')\n"
     ]
    }
   ],
   "source": [
    "print(df1.columns)"
   ]
  },
  {
   "cell_type": "code",
   "execution_count": 13,
   "id": "03962c1c",
   "metadata": {},
   "outputs": [
    {
     "name": "stdout",
     "output_type": "stream",
     "text": [
      "[RangeIndex(start=0, stop=100, step=1), Index(['crop', 'year', 'area', 'msp', 'yield(quintal)'], dtype='object')]\n"
     ]
    }
   ],
   "source": [
    "print(df1.axes)\n",
    "# gives the rows and columns names"
   ]
  },
  {
   "cell_type": "code",
   "execution_count": 14,
   "id": "16d6b414",
   "metadata": {},
   "outputs": [
    {
     "name": "stdout",
     "output_type": "stream",
     "text": [
      "2\n"
     ]
    }
   ],
   "source": [
    "print(df1.ndim)  # no of dimensions i.e rows and columns\n"
   ]
  },
  {
   "cell_type": "code",
   "execution_count": 15,
   "id": "4df2479b",
   "metadata": {},
   "outputs": [
    {
     "name": "stdout",
     "output_type": "stream",
     "text": [
      "500\n"
     ]
    }
   ],
   "source": [
    "print(df1.size)  #no of tuples in the file i.e=100*5=500 i.e rows x columns\n"
   ]
  },
  {
   "cell_type": "code",
   "execution_count": 16,
   "id": "7a44402e",
   "metadata": {},
   "outputs": [
    {
     "name": "stdout",
     "output_type": "stream",
     "text": [
      "(100, 5)\n"
     ]
    }
   ],
   "source": [
    "print(df1.shape)         # gives the no of rows and columns"
   ]
  },
  {
   "cell_type": "code",
   "execution_count": 17,
   "id": "3073997c",
   "metadata": {},
   "outputs": [
    {
     "name": "stdout",
     "output_type": "stream",
     "text": [
      "[['rice' '2014-15' 15759 1360 378216]\n",
      " ['rice' '2015-16' 15987 1414 383688]\n",
      " ['rice' '2016-17' 15747 1470 377928]\n",
      " ['rice' '2017-18' 15958 1550 382992]\n",
      " ['rice' '2018-19' 15848 1750 380352]\n",
      " ['maize' '2014-15' 1199 1310 29975]\n",
      " ['maize' '2015-16' 1227 1325 30675]\n",
      " ['maize' '2016-17' 1325 1365 33125]\n",
      " ['maize' '2017-18' 1369 1425 34225]\n",
      " ['maize' '2018-19' 951 1700 23775]\n",
      " ['greengram' '2014-15' 45 4600 225]\n",
      " ['greengram' '2015-16' 40 4850 200]\n",
      " ['greengram' '2016-17' 51 5225 255]\n",
      " ['greengram' '2017-18' 40 5575 200]\n",
      " ['greengram' '2018-19' 38 6975 190]\n",
      " ['redgram' '2014-15' 27 3175 168]\n",
      " ['red gram' '2015-16' 12 3500 72]\n",
      " ['red gram' '2016-17' 16 4000 80]\n",
      " ['red gram' '2017-18' 33 4400 165]\n",
      " ['red gram' '2018-19' 30 4600 150]\n",
      " ['cotton' '2014-15' 183 3750 1098]\n",
      " ['cotton' '2015-16' 176 3800 1056]\n",
      " ['cotton' '2016-17' 135 3860 810]\n",
      " ['cotton' '2017-18' 157 4020 942]\n",
      " ['cotton' '2018-19' 79 5150 474]\n",
      " ['turmeric' '2014-15' 3 2 30]\n",
      " ['turmeric' '2015-16' 7 2 70]\n",
      " ['turmeric' '2016-17' 2 2 20]\n",
      " ['turmeric' '2017-18' 3 2 30]\n",
      " ['turmeric' '2018-19' 6 2 60]\n",
      " ['sugarcane' '2014-15' 2627 220 525400]\n",
      " ['sugarcane' '2015-16' 1863 230 372600]\n",
      " ['sugarcane' '2016-17' 1711 230 342200]\n",
      " ['sugarcane' '2017-18' 1448 255 289600]\n",
      " ['sugarcane' '2018-19' 1266 275 253200]\n",
      " ['mango' '2014-15' 3408 10000 51015]\n",
      " ['mango' '2015-16' 2527 10100 37905]\n",
      " ['mango' '2016-17' 2092 11000 31380]\n",
      " ['mango' '2017-18' 1829 11500 87435]\n",
      " ['mango' '2018-19' 1627 13000 24405]\n",
      " ['cashew nut' '2014-15' 284 10000 568]\n",
      " ['cashew nut' '2015-16' 254 11000 508]\n",
      " ['cashew nut' '2016-17' 223 12000 446]\n",
      " ['cashew nut' '2017-18' 226 13000 452]\n",
      " ['cashew nut' '2018-19' 189 19000 378]\n",
      " ['banana' '2014-15' 116 6000 18560]\n",
      " ['banana' '2015-16' 235 7000 43600]\n",
      " ['banana' '2016-17' 76 9000 12160]\n",
      " ['banana' '2017-18' 70 10000 11200]\n",
      " ['banana' '2018-19' 36 15000 5760]\n",
      " ['guava' '2014-15' 176 9000 1760]\n",
      " ['guava' '2015-16' 242 9500 2420]\n",
      " ['guava' '2016-17' 302 9600 3020]\n",
      " ['guava' '2017-18' 345 9700 3450]\n",
      " ['guava' '2018-19' 363 10000 3630]\n",
      " ['lemon' '2014-15' 49 15000 245]\n",
      " ['lemon' '2015-16' 54 15500 270]\n",
      " ['lemon' '2016-17' 67 16000 335]\n",
      " ['lemon' '2017-18' 95 17000 475]\n",
      " ['lemon' '2018-19' 95 17500 475]\n",
      " ['coconut' '2014-15' 188 1450 56400]\n",
      " ['coconut' '2015-16' 169 1500 50700]\n",
      " ['coconut' '2016-17' 137 1600 41100]\n",
      " ['coconut' '2017-18' 152 1760 45600]\n",
      " ['coconut' '2018-19' 155 2030 46100]\n",
      " ['sapota' '2014-15' 21 6000 840]\n",
      " ['sapota' '2015-16' 79 5000 3160]\n",
      " ['sapota' '2016-17' 68 5500 2720]\n",
      " ['sapota' '2017-18' 74 6200 2960]\n",
      " ['sapota' '2018-19' 70 6500 2800]\n",
      " ['palmoil' '2014-15' 1487 30000 386620]\n",
      " ['palmoil' '2015-16' 1792 35000 465920]\n",
      " ['palmoil' '2016-17' 1866 36000 485160]\n",
      " ['palmoil' '2017-18' 1915 38000 497900]\n",
      " ['palmoil' '2018-19' 1955 40000 508300]\n",
      " ['eukalptus' '2014-15' 2003 8000 460690]\n",
      " ['eukalptus' '2015-16' 2548 8500 586040]\n",
      " ['eukalytus' '2016-17' 2585 9000 594550]\n",
      " ['eukalytus' '2017-18' 2664 9500 612720]\n",
      " ['eukalytus' '2018-19' 2668 10000 613640]\n",
      " ['malbari' '2014-15' 5 90000 2250]\n",
      " ['malbari' '2015-16' 5 80000 2850]\n",
      " ['malbari' '2016-17' 19 60000 8550]\n",
      " ['malbari' '2017-18' 17 85000 7650]\n",
      " ['malbari' '2018-19' 19 90000 8559]\n",
      " ['chedu vepa' '2014-15' 15 56000 3750]\n",
      " ['chedu vepa' '2015-16' 15 59000 3750]\n",
      " ['chedu vepa' '2016-17' 15 65000 3750]\n",
      " ['chedu vepa' '2017-18' 19 67000 4750]\n",
      " ['chedu vepa' '2018-19' 19 75000 4750]\n",
      " ['tekku' '2014-15' 25 150000 10]\n",
      " ['tekku' '2015-16' 32 160000 10]\n",
      " ['tekku' '2016-17' 34 175000 10]\n",
      " ['tekku' '2017-18' 40 189000 10]\n",
      " ['tekku' '2018-19' 40 190000 10]\n",
      " ['errachandanam' '2014-15' 5 150000 10]\n",
      " ['errachandanam' '2015-16' 5 160000 10]\n",
      " ['errachandanam' '2016-17' 9 190000 10]\n",
      " ['errachandanam' '2017-18' 10 195000 10]\n",
      " ['errachandanam' '2018-19' 12 209000 10]]\n"
     ]
    }
   ],
   "source": [
    "print(df1.values) #numpy representation of data as alist\n"
   ]
  },
  {
   "cell_type": "code",
   "execution_count": 18,
   "id": "697f8ff7",
   "metadata": {},
   "outputs": [
    {
     "name": "stdout",
     "output_type": "stream",
     "text": [
      "               area            msp  yield(quintal)\n",
      "count    100.000000     100.000000      100.000000\n",
      "mean    1333.040000   31363.090000    97007.270000\n",
      "std     3454.998174   53527.125655   181610.087946\n",
      "min        2.000000       2.000000       10.000000\n",
      "25%       29.250000    2888.750000      252.500000\n",
      "50%      125.500000    9000.000000     3305.000000\n",
      "75%     1336.000000   21750.000000    45725.000000\n",
      "max    15987.000000  209000.000000   613640.000000\n"
     ]
    }
   ],
   "source": [
    "print(df1.describe())  #gives the description of the data\n"
   ]
  },
  {
   "cell_type": "code",
   "execution_count": 19,
   "id": "72d00700",
   "metadata": {},
   "outputs": [
    {
     "name": "stdout",
     "output_type": "stream",
     "text": [
      "crop              turmeric\n",
      "year               2018-19\n",
      "area                 15987\n",
      "msp                 209000\n",
      "yield(quintal)      613640\n",
      "dtype: object\n"
     ]
    }
   ],
   "source": [
    "print(df1.max())"
   ]
  },
  {
   "cell_type": "code",
   "execution_count": 20,
   "id": "083742ef",
   "metadata": {},
   "outputs": [
    {
     "name": "stdout",
     "output_type": "stream",
     "text": [
      "15987\n"
     ]
    }
   ],
   "source": [
    "print(df1[\"area\"].max())"
   ]
  },
  {
   "cell_type": "code",
   "execution_count": 22,
   "id": "e63bf8d2",
   "metadata": {},
   "outputs": [
    {
     "name": "stdout",
     "output_type": "stream",
     "text": [
      "area               1333.04\n",
      "msp               31363.09\n",
      "yield(quintal)    97007.27\n",
      "dtype: float64\n"
     ]
    },
    {
     "name": "stderr",
     "output_type": "stream",
     "text": [
      "C:\\Users\\knani\\AppData\\Local\\Temp/ipykernel_1784/1183993460.py:1: FutureWarning: Dropping of nuisance columns in DataFrame reductions (with 'numeric_only=None') is deprecated; in a future version this will raise TypeError.  Select only valid columns before calling the reduction.\n",
      "  print(df1.mean())\n"
     ]
    }
   ],
   "source": [
    "print(df1.mean())"
   ]
  },
  {
   "cell_type": "code",
   "execution_count": 23,
   "id": "7c54a3f2",
   "metadata": {},
   "outputs": [
    {
     "name": "stdout",
     "output_type": "stream",
     "text": [
      "1333.04\n"
     ]
    }
   ],
   "source": [
    "print(df1[\"area\"].mean())"
   ]
  },
  {
   "cell_type": "code",
   "execution_count": 24,
   "id": "dfacc547",
   "metadata": {},
   "outputs": [
    {
     "name": "stdout",
     "output_type": "stream",
     "text": [
      "area                3454.998174\n",
      "msp                53527.125655\n",
      "yield(quintal)    181610.087946\n",
      "dtype: float64\n"
     ]
    },
    {
     "name": "stderr",
     "output_type": "stream",
     "text": [
      "C:\\Users\\knani\\AppData\\Local\\Temp/ipykernel_1784/2953682192.py:1: FutureWarning: Dropping of nuisance columns in DataFrame reductions (with 'numeric_only=None') is deprecated; in a future version this will raise TypeError.  Select only valid columns before calling the reduction.\n",
      "  print(df1.std()) # standard deviation\n"
     ]
    }
   ],
   "source": [
    "print(df1.std()) # standard deviation"
   ]
  },
  {
   "cell_type": "code",
   "execution_count": 25,
   "id": "846850ca",
   "metadata": {},
   "outputs": [
    {
     "name": "stdout",
     "output_type": "stream",
     "text": [
      "3454.998173982473\n"
     ]
    }
   ],
   "source": [
    "print(df1[\"area\"].std())"
   ]
  },
  {
   "cell_type": "code",
   "execution_count": 26,
   "id": "30f391dd",
   "metadata": {},
   "outputs": [
    {
     "name": "stdout",
     "output_type": "stream",
     "text": [
      "[15759 15987 15747 15958 15848  1199  1227  1325  1369   951    45    40\n",
      "    51    38    27    12    16    33    30   183   176   135   157    79\n",
      "     3     7     2     6  2627  1863  1711  1448  1266  3408  2527  2092\n",
      "  1829  1627   284   254   223   226   189   116   235    76    70    36\n",
      "   242   302   345   363    49    54    67    95   188   169   137   152\n",
      "   155    21    68    74  1487  1792  1866  1915  1955  2003  2548  2585\n",
      "  2664  2668     5    19    17    15    25    32    34     9    10]\n"
     ]
    }
   ],
   "source": [
    "print(df1[\"area\"].unique()) # gives the unique values of the column\n"
   ]
  },
  {
   "cell_type": "code",
   "execution_count": 27,
   "id": "eac23ac8",
   "metadata": {},
   "outputs": [
    {
     "name": "stdout",
     "output_type": "stream",
     "text": [
      "['rice' 'maize' 'greengram' 'redgram' 'red gram' 'cotton' 'turmeric'\n",
      " 'sugarcane' 'mango' 'cashew nut' 'banana' 'guava' 'lemon' 'coconut'\n",
      " 'sapota' 'palmoil' 'eukalptus' 'eukalytus' 'malbari' 'chedu vepa' 'tekku'\n",
      " 'errachandanam']\n"
     ]
    }
   ],
   "source": [
    "print(df1[\"crop\"].unique())"
   ]
  },
  {
   "cell_type": "code",
   "execution_count": 28,
   "id": "f0790b6b",
   "metadata": {},
   "outputs": [
    {
     "name": "stdout",
     "output_type": "stream",
     "text": [
      "rice             5\n",
      "banana           5\n",
      "tekku            5\n",
      "chedu vepa       5\n",
      "malbari          5\n",
      "palmoil          5\n",
      "sapota           5\n",
      "coconut          5\n",
      "lemon            5\n",
      "maize            5\n",
      "guava            5\n",
      "cashew nut       5\n",
      "mango            5\n",
      "sugarcane        5\n",
      "turmeric         5\n",
      "cotton           5\n",
      "greengram        5\n",
      "errachandanam    5\n",
      "red gram         4\n",
      "eukalytus        3\n",
      "eukalptus        2\n",
      "redgram          1\n",
      "Name: crop, dtype: int64\n"
     ]
    }
   ],
   "source": [
    "print(df1[\"crop\"].value_counts())   \n",
    "#gives the unique category counts\n"
   ]
  },
  {
   "cell_type": "code",
   "execution_count": 29,
   "id": "4f15eeb4",
   "metadata": {},
   "outputs": [
    {
     "name": "stdout",
     "output_type": "stream",
     "text": [
      "19       4\n",
      "5        4\n",
      "40       4\n",
      "15       3\n",
      "95       2\n",
      "70       2\n",
      "3        2\n",
      "79       2\n",
      "176      2\n",
      "12       2\n",
      "15759    1\n",
      "155      1\n",
      "152      1\n",
      "137      1\n",
      "169      1\n",
      "188      1\n",
      "54       1\n",
      "67       1\n",
      "68       1\n",
      "49       1\n",
      "363      1\n",
      "345      1\n",
      "302      1\n",
      "242      1\n",
      "36       1\n",
      "21       1\n",
      "1487     1\n",
      "74       1\n",
      "2664     1\n",
      "9        1\n",
      "34       1\n",
      "32       1\n",
      "25       1\n",
      "17       1\n",
      "2668     1\n",
      "2585     1\n",
      "235      1\n",
      "2548     1\n",
      "2003     1\n",
      "1955     1\n",
      "1915     1\n",
      "1866     1\n",
      "1792     1\n",
      "76       1\n",
      "226      1\n",
      "116      1\n",
      "45       1\n",
      "183      1\n",
      "30       1\n",
      "33       1\n",
      "16       1\n",
      "27       1\n",
      "38       1\n",
      "51       1\n",
      "951      1\n",
      "189      1\n",
      "1369     1\n",
      "1325     1\n",
      "1227     1\n",
      "1199     1\n",
      "15848    1\n",
      "15958    1\n",
      "15747    1\n",
      "135      1\n",
      "157      1\n",
      "7        1\n",
      "2        1\n",
      "15987    1\n",
      "223      1\n",
      "254      1\n",
      "284      1\n",
      "1627     1\n",
      "1829     1\n",
      "2092     1\n",
      "2527     1\n",
      "3408     1\n",
      "1266     1\n",
      "1448     1\n",
      "1711     1\n",
      "1863     1\n",
      "2627     1\n",
      "6        1\n",
      "10       1\n",
      "Name: area, dtype: int64\n"
     ]
    }
   ],
   "source": [
    "print(df1[\"area\"].value_counts())"
   ]
  },
  {
   "cell_type": "code",
   "execution_count": 30,
   "id": "31dadacd",
   "metadata": {},
   "outputs": [
    {
     "name": "stdout",
     "output_type": "stream",
     "text": [
      "          crop     year  area    msp  yield(quintal)\n",
      "35       mango  2014-15  3408  10000           51015\n",
      "24      cotton  2018-19    79   5150             474\n",
      "20      cotton  2014-15   183   3750            1098\n",
      "21      cotton  2015-16   176   3800            1056\n",
      "19    red gram  2018-19    30   4600             150\n",
      "40  cashew nut  2014-15   284  10000             568\n",
      "76   eukalptus  2015-16  2548   8500          586040\n",
      "45      banana  2014-15   116   6000           18560\n",
      "72     palmoil  2016-17  1866  36000          485160\n",
      "30   sugarcane  2014-15  2627    220          525400\n"
     ]
    }
   ],
   "source": [
    "print(df1.sample(n=10))     # gives random values\n"
   ]
  },
  {
   "cell_type": "code",
   "execution_count": 31,
   "id": "d642f008",
   "metadata": {},
   "outputs": [
    {
     "name": "stdout",
     "output_type": "stream",
     "text": [
      "crop              0\n",
      "year              0\n",
      "area              0\n",
      "msp               0\n",
      "yield(quintal)    0\n",
      "dtype: int64\n"
     ]
    }
   ],
   "source": [
    "print(df1.isnull().sum())"
   ]
  },
  {
   "cell_type": "code",
   "execution_count": 32,
   "id": "c80a94d3",
   "metadata": {},
   "outputs": [],
   "source": [
    "#loc[] ==location \n",
    "#iloc[]==index location"
   ]
  },
  {
   "cell_type": "code",
   "execution_count": 33,
   "id": "9f9173eb",
   "metadata": {},
   "outputs": [
    {
     "name": "stdout",
     "output_type": "stream",
     "text": [
      "         crop     year  area   msp  yield(quintal)\n",
      "5       maize  2014-15  1199  1310           29975\n",
      "6       maize  2015-16  1227  1325           30675\n",
      "7       maize  2016-17  1325  1365           33125\n",
      "8       maize  2017-18  1369  1425           34225\n",
      "9       maize  2018-19   951  1700           23775\n",
      "10  greengram  2014-15    45  4600             225\n",
      "11  greengram  2015-16    40  4850             200\n",
      "12  greengram  2016-17    51  5225             255\n",
      "13  greengram  2017-18    40  5575             200\n",
      "14  greengram  2018-19    38  6975             190\n",
      "15    redgram  2014-15    27  3175             168\n"
     ]
    }
   ],
   "source": [
    "print(df1.loc[5:15])  # gives all the data from 5 to 15 with all columns\n"
   ]
  },
  {
   "cell_type": "code",
   "execution_count": 34,
   "id": "fd9ee94c",
   "metadata": {},
   "outputs": [
    {
     "name": "stdout",
     "output_type": "stream",
     "text": [
      "         crop     year  area\n",
      "5       maize  2014-15  1199\n",
      "6       maize  2015-16  1227\n",
      "7       maize  2016-17  1325\n",
      "8       maize  2017-18  1369\n",
      "9       maize  2018-19   951\n",
      "10  greengram  2014-15    45\n",
      "11  greengram  2015-16    40\n",
      "12  greengram  2016-17    51\n",
      "13  greengram  2017-18    40\n",
      "14  greengram  2018-19    38\n",
      "15    redgram  2014-15    27\n"
     ]
    }
   ],
   "source": [
    "print(df1.loc[5:15,[\"crop\",\"year\",\"area\"]])\n",
    "# gives the value of three columns\n"
   ]
  },
  {
   "cell_type": "code",
   "execution_count": 35,
   "id": "79ba5c32",
   "metadata": {},
   "outputs": [
    {
     "name": "stdout",
     "output_type": "stream",
     "text": [
      "       year   msp\n",
      "10  2014-15  4600\n",
      "11  2015-16  4850\n",
      "12  2016-17  5225\n",
      "13  2017-18  5575\n",
      "14  2018-19  6975\n",
      "15  2014-15  3175\n",
      "16  2015-16  3500\n",
      "17  2016-17  4000\n",
      "18  2017-18  4400\n",
      "19  2018-19  4600\n"
     ]
    }
   ],
   "source": [
    "print(df1.iloc[10:20,[1,3]]) # [rows:rows , columns:columns]\n",
    "# gives the data based on index of column number\n"
   ]
  },
  {
   "cell_type": "code",
   "execution_count": 36,
   "id": "d79308db",
   "metadata": {},
   "outputs": [
    {
     "name": "stdout",
     "output_type": "stream",
     "text": [
      "crop                maize\n",
      "year              2014-15\n",
      "area                 1199\n",
      "msp                  1310\n",
      "yield(quintal)      29975\n",
      "Name: 5, dtype: object\n"
     ]
    }
   ],
   "source": [
    "print(df1.iloc[5])   # gives the value of that row with all columns  \n"
   ]
  },
  {
   "cell_type": "code",
   "execution_count": null,
   "id": "e42ed454",
   "metadata": {},
   "outputs": [],
   "source": []
  },
  {
   "cell_type": "code",
   "execution_count": null,
   "id": "e9dfe608",
   "metadata": {},
   "outputs": [],
   "source": []
  },
  {
   "cell_type": "code",
   "execution_count": null,
   "id": "f1d3e6dc",
   "metadata": {},
   "outputs": [],
   "source": []
  }
 ],
 "metadata": {
  "kernelspec": {
   "display_name": "Python 3 (ipykernel)",
   "language": "python",
   "name": "python3"
  },
  "language_info": {
   "codemirror_mode": {
    "name": "ipython",
    "version": 3
   },
   "file_extension": ".py",
   "mimetype": "text/x-python",
   "name": "python",
   "nbconvert_exporter": "python",
   "pygments_lexer": "ipython3",
   "version": "3.9.7"
  }
 },
 "nbformat": 4,
 "nbformat_minor": 5
}
