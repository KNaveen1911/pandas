{
 "cells": [
  {
   "cell_type": "code",
   "execution_count": 1,
   "id": "92752d1f",
   "metadata": {},
   "outputs": [],
   "source": [
    "import pandas as pd\n",
    "\n",
    "df=pd.read_csv(\"data/movie_metadata.csv\")"
   ]
  },
  {
   "cell_type": "code",
   "execution_count": 2,
   "id": "54a0ab02",
   "metadata": {},
   "outputs": [
    {
     "name": "stdout",
     "output_type": "stream",
     "text": [
      "   color   director_name  num_critic_for_reviews  duration  \\\n",
      "0  Color   James Cameron                   723.0     178.0   \n",
      "1  Color  Gore Verbinski                   302.0     169.0   \n",
      "\n",
      "   director_facebook_likes  actor_3_facebook_likes      actor_2_name  \\\n",
      "0                      0.0                   855.0  Joel David Moore   \n",
      "1                    563.0                  1000.0     Orlando Bloom   \n",
      "\n",
      "   actor_1_facebook_likes        gross                           genres  ...  \\\n",
      "0                  1000.0  760505847.0  Action|Adventure|Fantasy|Sci-Fi  ...   \n",
      "1                 40000.0  309404152.0         Action|Adventure|Fantasy  ...   \n",
      "\n",
      "  num_user_for_reviews language  country  content_rating       budget  \\\n",
      "0               3054.0  English      USA           PG-13  237000000.0   \n",
      "1               1238.0  English      USA           PG-13  300000000.0   \n",
      "\n",
      "   title_year actor_2_facebook_likes imdb_score  aspect_ratio  \\\n",
      "0      2009.0                  936.0        7.9          1.78   \n",
      "1      2007.0                 5000.0        7.1          2.35   \n",
      "\n",
      "  movie_facebook_likes  \n",
      "0                33000  \n",
      "1                    0  \n",
      "\n",
      "[2 rows x 28 columns]\n"
     ]
    }
   ],
   "source": [
    "print(df.head(2))"
   ]
  },
  {
   "cell_type": "code",
   "execution_count": 3,
   "id": "36b65c38",
   "metadata": {},
   "outputs": [
    {
     "name": "stdout",
     "output_type": "stream",
     "text": [
      "(5043, 28)\n"
     ]
    }
   ],
   "source": [
    "print(df.shape)"
   ]
  },
  {
   "cell_type": "code",
   "execution_count": 4,
   "id": "6fbee119",
   "metadata": {},
   "outputs": [
    {
     "name": "stdout",
     "output_type": "stream",
     "text": [
      "<class 'pandas.core.frame.DataFrame'>\n",
      "RangeIndex: 5043 entries, 0 to 5042\n",
      "Data columns (total 28 columns):\n",
      " #   Column                     Non-Null Count  Dtype  \n",
      "---  ------                     --------------  -----  \n",
      " 0   color                      5024 non-null   object \n",
      " 1   director_name              4939 non-null   object \n",
      " 2   num_critic_for_reviews     4993 non-null   float64\n",
      " 3   duration                   5028 non-null   float64\n",
      " 4   director_facebook_likes    4939 non-null   float64\n",
      " 5   actor_3_facebook_likes     5020 non-null   float64\n",
      " 6   actor_2_name               5030 non-null   object \n",
      " 7   actor_1_facebook_likes     5036 non-null   float64\n",
      " 8   gross                      4159 non-null   float64\n",
      " 9   genres                     5043 non-null   object \n",
      " 10  actor_1_name               5036 non-null   object \n",
      " 11  movie_title                5043 non-null   object \n",
      " 12  num_voted_users            5043 non-null   int64  \n",
      " 13  cast_total_facebook_likes  5043 non-null   int64  \n",
      " 14  actor_3_name               5020 non-null   object \n",
      " 15  facenumber_in_poster       5030 non-null   float64\n",
      " 16  plot_keywords              4890 non-null   object \n",
      " 17  movie_imdb_link            5043 non-null   object \n",
      " 18  num_user_for_reviews       5022 non-null   float64\n",
      " 19  language                   5031 non-null   object \n",
      " 20  country                    5038 non-null   object \n",
      " 21  content_rating             4740 non-null   object \n",
      " 22  budget                     4551 non-null   float64\n",
      " 23  title_year                 4935 non-null   float64\n",
      " 24  actor_2_facebook_likes     5030 non-null   float64\n",
      " 25  imdb_score                 5043 non-null   float64\n",
      " 26  aspect_ratio               4714 non-null   float64\n",
      " 27  movie_facebook_likes       5043 non-null   int64  \n",
      "dtypes: float64(13), int64(3), object(12)\n",
      "memory usage: 1.1+ MB\n"
     ]
    }
   ],
   "source": [
    "df.info()"
   ]
  },
  {
   "cell_type": "code",
   "execution_count": null,
   "id": "96e77b39",
   "metadata": {},
   "outputs": [],
   "source": []
  },
  {
   "cell_type": "code",
   "execution_count": 5,
   "id": "d93368c5",
   "metadata": {},
   "outputs": [
    {
     "name": "stdout",
     "output_type": "stream",
     "text": [
      "                 color      director_name  num_critic_for_reviews  duration  \\\n",
      "0                Color      James Cameron                   723.0     178.0   \n",
      "1                Color     Gore Verbinski                   302.0     169.0   \n",
      "3                Color  Christopher Nolan                   813.0     164.0   \n",
      "10               Color        Zack Snyder                   673.0     183.0   \n",
      "11               Color       Bryan Singer                   434.0     169.0   \n",
      "...                ...                ...                     ...       ...   \n",
      "4572   Black and White     Khalid Mohamed                     1.0     167.0   \n",
      "4688             Color        Steve James                    53.0     170.0   \n",
      "4694             Color      Peter Jackson                   446.0     201.0   \n",
      "4708             Color   Michael Wadleigh                    53.0     215.0   \n",
      "4747   Black and White     Akira Kurosawa                   153.0     202.0   \n",
      "\n",
      "      director_facebook_likes  actor_3_facebook_likes        actor_2_name  \\\n",
      "0                         0.0                   855.0    Joel David Moore   \n",
      "1                       563.0                  1000.0       Orlando Bloom   \n",
      "3                     22000.0                 23000.0      Christian Bale   \n",
      "10                        0.0                  2000.0        Lauren Cohan   \n",
      "11                        0.0                   903.0       Marlon Brando   \n",
      "...                       ...                     ...                 ...   \n",
      "4572                     10.0                    97.0      Manoj Bajpayee   \n",
      "4688                     23.0                     2.0         Arthur Agee   \n",
      "4694                      0.0                    84.0  Thomas Kretschmann   \n",
      "4708                     14.0                   136.0        Jimi Hendrix   \n",
      "4747                      0.0                     4.0       Minoru Chiaki   \n",
      "\n",
      "      actor_1_facebook_likes        gross                           genres  \\\n",
      "0                     1000.0  760505847.0  Action|Adventure|Fantasy|Sci-Fi   \n",
      "1                    40000.0  309404152.0         Action|Adventure|Fantasy   \n",
      "3                    27000.0  448130642.0                  Action|Thriller   \n",
      "10                   15000.0  330249062.0          Action|Adventure|Sci-Fi   \n",
      "11                   18000.0  200069408.0          Action|Adventure|Sci-Fi   \n",
      "...                      ...          ...                              ...   \n",
      "4572                   353.0     610991.0                    Drama|Romance   \n",
      "4688                     7.0    7830611.0          Documentary|Drama|Sport   \n",
      "4694                  6000.0  218051260.0   Action|Adventure|Drama|Romance   \n",
      "4708                   262.0   13300000.0        Documentary|History|Music   \n",
      "4747                   304.0     269061.0           Action|Adventure|Drama   \n",
      "\n",
      "      ... num_user_for_reviews  language      country  content_rating  \\\n",
      "0     ...               3054.0   English          USA           PG-13   \n",
      "1     ...               1238.0   English          USA           PG-13   \n",
      "3     ...               2701.0   English          USA           PG-13   \n",
      "10    ...               3018.0   English          USA           PG-13   \n",
      "11    ...               2367.0   English          USA           PG-13   \n",
      "...   ...                  ...       ...          ...             ...   \n",
      "4572  ...                 19.0     Hindi        India             NaN   \n",
      "4688  ...                 74.0   English          USA           PG-13   \n",
      "4694  ...               2618.0   English  New Zealand           PG-13   \n",
      "4708  ...                 63.0   English          USA               R   \n",
      "4747  ...                596.0  Japanese        Japan         Unrated   \n",
      "\n",
      "           budget  title_year actor_2_facebook_likes imdb_score  aspect_ratio  \\\n",
      "0     237000000.0      2009.0                  936.0        7.9          1.78   \n",
      "1     300000000.0      2007.0                 5000.0        7.1          2.35   \n",
      "3     250000000.0      2012.0                23000.0        8.5          2.35   \n",
      "10    250000000.0      2016.0                 4000.0        6.9          2.35   \n",
      "11    209000000.0      2006.0                10000.0        6.1          2.35   \n",
      "...           ...         ...                    ...        ...           ...   \n",
      "4572    1000000.0      2000.0                  186.0        6.2          2.35   \n",
      "4688     700000.0      1994.0                    6.0        8.3          1.33   \n",
      "4694  207000000.0      2005.0                  918.0        7.2          2.35   \n",
      "4708     600000.0      1970.0                  227.0        8.1          2.20   \n",
      "4747    2000000.0      1954.0                    8.0        8.7          1.37   \n",
      "\n",
      "     movie_facebook_likes  \n",
      "0                   33000  \n",
      "1                       0  \n",
      "3                  164000  \n",
      "10                 197000  \n",
      "11                      0  \n",
      "...                   ...  \n",
      "4572                   92  \n",
      "4688                    0  \n",
      "4694                    0  \n",
      "4708                    0  \n",
      "4747                11000  \n",
      "\n",
      "[133 rows x 28 columns]\n"
     ]
    }
   ],
   "source": [
    "dt=df[df.duration>160]\n",
    "print(dt)"
   ]
  },
  {
   "cell_type": "code",
   "execution_count": 6,
   "id": "b501745a",
   "metadata": {},
   "outputs": [
    {
     "name": "stdout",
     "output_type": "stream",
     "text": [
      "          director_name                                movie_title  duration\n",
      "0         James Cameron                                    Avatar      178.0\n",
      "1        Gore Verbinski  Pirates of the Caribbean: At World's End      169.0\n",
      "3     Christopher Nolan                     The Dark Knight Rises      164.0\n",
      "10          Zack Snyder        Batman v Superman: Dawn of Justice      183.0\n",
      "11         Bryan Singer                          Superman Returns      169.0\n",
      "...                 ...                                        ...       ...\n",
      "4572     Khalid Mohamed                                      Fiza      167.0\n",
      "4688        Steve James                               Hoop Dreams      170.0\n",
      "4694      Peter Jackson                                 King Kong      201.0\n",
      "4708   Michael Wadleigh                                 Woodstock      215.0\n",
      "4747     Akira Kurosawa                             Seven Samurai      202.0\n",
      "\n",
      "[133 rows x 3 columns]\n"
     ]
    }
   ],
   "source": [
    "print(dt[[\"director_name\",\"movie_title\",\"duration\"]])   # dt should be defined and it filters columns\n"
   ]
  },
  {
   "cell_type": "code",
   "execution_count": 7,
   "id": "e3f1be08",
   "metadata": {},
   "outputs": [
    {
     "name": "stdout",
     "output_type": "stream",
     "text": [
      "                 color       director_name  num_critic_for_reviews  duration  \\\n",
      "698              Color     Lawrence Kasdan                    40.0     212.0   \n",
      "883              Color         Ron Maxwell                    84.0     280.0   \n",
      "1124             Color  Billy Bob Thornton                    85.0     220.0   \n",
      "1125   Black and White        Oliver Stone                    83.0     212.0   \n",
      "1429             Color           Spike Lee                    61.0     202.0   \n",
      "1501             Color     Taylor Hackford                    12.0     330.0   \n",
      "1980             Color         Ron Maxwell                    22.0     271.0   \n",
      "2266             Color      George Stevens                    27.0     225.0   \n",
      "2356             Color       Kevin Costner                    92.0     236.0   \n",
      "2727             Color                 NaN                     9.0     286.0   \n",
      "4708             Color    Michael Wadleigh                    53.0     215.0   \n",
      "\n",
      "      director_facebook_likes  actor_3_facebook_likes  \\\n",
      "698                     759.0                   812.0   \n",
      "883                      33.0                    67.0   \n",
      "1124                      0.0                   820.0   \n",
      "1125                      0.0                   805.0   \n",
      "1429                      0.0                   318.0   \n",
      "1501                    138.0                   672.0   \n",
      "1980                     33.0                   251.0   \n",
      "2266                    126.0                   202.0   \n",
      "2356                      0.0                   232.0   \n",
      "2727                      NaN                   527.0   \n",
      "4708                     14.0                   136.0   \n",
      "\n",
      "                 actor_2_name  actor_1_facebook_likes        gross  \\\n",
      "698          Catherine O'Hara                  2000.0   25052000.0   \n",
      "883          Bruce Boxleitner                   789.0   12870569.0   \n",
      "1124             Henry Thomas                 13000.0   15527125.0   \n",
      "1125              Bob Hoskins                 12000.0   13560960.0   \n",
      "1429             Delroy Lindo                 18000.0   48169908.0   \n",
      "1501            Jesse Borrego                   848.0    4496583.0   \n",
      "1980  William Morgan Sheppard                   854.0   10769960.0   \n",
      "2266            Carroll Baker                   940.0    8000000.0   \n",
      "2356           Michael Spears                   933.0  184208848.0   \n",
      "2727            Tom Hollander                   857.0          NaN   \n",
      "4708             Jimi Hendrix                   262.0   13300000.0   \n",
      "\n",
      "                                       genres  ... num_user_for_reviews  \\\n",
      "698   Adventure|Biography|Crime|Drama|Western  ...                145.0   \n",
      "883                         Drama|History|War  ...                497.0   \n",
      "1124                    Drama|Romance|Western  ...                183.0   \n",
      "1125                  Biography|Drama|History  ...                161.0   \n",
      "1429          Biography|Drama|History|Romance  ...                156.0   \n",
      "1501                              Crime|Drama  ...                129.0   \n",
      "1980                        Drama|History|War  ...                256.0   \n",
      "2266                  Biography|Drama|History  ...                100.0   \n",
      "2356                  Adventure|Drama|Western  ...                382.0   \n",
      "2727                   Drama|History|Thriller  ...                 39.0   \n",
      "4708                Documentary|History|Music  ...                 63.0   \n",
      "\n",
      "     language  country  content_rating      budget  title_year  \\\n",
      "698   English      USA           PG-13  63000000.0      1994.0   \n",
      "883   English      USA           PG-13  56000000.0      2003.0   \n",
      "1124  English      USA           PG-13  57000000.0      2000.0   \n",
      "1125  English      USA               R  50000000.0      1995.0   \n",
      "1429  English      USA           PG-13  33000000.0      1992.0   \n",
      "1501  English      USA               R  35000000.0      1993.0   \n",
      "1980  English      USA              PG  25000000.0      1993.0   \n",
      "2266  English      USA               G  20000000.0      1965.0   \n",
      "2356  English      USA           PG-13  22000000.0      1990.0   \n",
      "2727  English      USA             NaN         NaN         NaN   \n",
      "4708  English      USA               R    600000.0      1970.0   \n",
      "\n",
      "     actor_2_facebook_likes imdb_score  aspect_ratio movie_facebook_likes  \n",
      "698                   925.0        6.6          2.35                    0  \n",
      "883                   640.0        6.3          2.35                  953  \n",
      "1124                  861.0        5.8          2.35                  652  \n",
      "1125                 5000.0        7.1          2.35                  915  \n",
      "1429                  848.0        7.7          1.85                    0  \n",
      "1501                  674.0        8.0          1.66                 6000  \n",
      "1980                  702.0        7.7          1.85                    0  \n",
      "2266                  208.0        6.6          2.76                 1000  \n",
      "2356                  839.0        8.0          2.35                    0  \n",
      "2727                  555.0        7.9          1.78                  733  \n",
      "4708                  227.0        8.1          2.20                    0  \n",
      "\n",
      "[11 rows x 28 columns]\n"
     ]
    }
   ],
   "source": [
    "print(df[(df.duration>200)&(df.num_critic_for_reviews<100)&(df.country==\"USA\")]) \n",
    "# all the conditions are true then it gives the data\n"
   ]
  },
  {
   "cell_type": "code",
   "execution_count": 8,
   "id": "faae658d",
   "metadata": {},
   "outputs": [
    {
     "name": "stdout",
     "output_type": "stream",
     "text": [
      "          director_name\n",
      "0         James Cameron\n",
      "1        Gore Verbinski\n",
      "3     Christopher Nolan\n",
      "10          Zack Snyder\n",
      "11         Bryan Singer\n",
      "...                 ...\n",
      "4087                NaN\n",
      "4113                NaN\n",
      "4238      William Wyler\n",
      "4572     Khalid Mohamed\n",
      "4688        Steve James\n",
      "\n",
      "[96 rows x 1 columns]\n"
     ]
    }
   ],
   "source": [
    "dt=df[(df.duration>160)&(df.duration<200)]\n",
    "\n",
    "print(dt[[\"director_name\"]]) # we can give no of columns\n"
   ]
  },
  {
   "cell_type": "code",
   "execution_count": 9,
   "id": "625a69e3",
   "metadata": {},
   "outputs": [
    {
     "name": "stdout",
     "output_type": "stream",
     "text": [
      "      color  director_name  num_critic_for_reviews  duration  \\\n",
      "0     False          False                   False     False   \n",
      "1     False          False                   False     False   \n",
      "2     False          False                   False     False   \n",
      "3     False          False                   False     False   \n",
      "4      True          False                    True      True   \n",
      "...     ...            ...                     ...       ...   \n",
      "5038  False          False                   False     False   \n",
      "5039  False           True                   False     False   \n",
      "5040  False          False                   False     False   \n",
      "5041  False          False                   False     False   \n",
      "5042  False          False                   False     False   \n",
      "\n",
      "      director_facebook_likes  actor_3_facebook_likes  actor_2_name  \\\n",
      "0                       False                   False         False   \n",
      "1                       False                   False         False   \n",
      "2                       False                   False         False   \n",
      "3                       False                   False         False   \n",
      "4                       False                    True         False   \n",
      "...                       ...                     ...           ...   \n",
      "5038                    False                   False         False   \n",
      "5039                     True                   False         False   \n",
      "5040                    False                   False         False   \n",
      "5041                    False                   False         False   \n",
      "5042                    False                   False         False   \n",
      "\n",
      "      actor_1_facebook_likes  gross  genres  ...  num_user_for_reviews  \\\n",
      "0                      False  False   False  ...                 False   \n",
      "1                      False  False   False  ...                 False   \n",
      "2                      False  False   False  ...                 False   \n",
      "3                      False  False   False  ...                 False   \n",
      "4                      False   True   False  ...                  True   \n",
      "...                      ...    ...     ...  ...                   ...   \n",
      "5038                   False   True   False  ...                 False   \n",
      "5039                   False   True   False  ...                 False   \n",
      "5040                   False   True   False  ...                 False   \n",
      "5041                   False  False   False  ...                 False   \n",
      "5042                   False  False   False  ...                 False   \n",
      "\n",
      "      language  country  content_rating  budget  title_year  \\\n",
      "0        False    False           False   False       False   \n",
      "1        False    False           False   False       False   \n",
      "2        False    False           False   False       False   \n",
      "3        False    False           False   False       False   \n",
      "4         True     True            True    True        True   \n",
      "...        ...      ...             ...     ...         ...   \n",
      "5038     False    False            True    True       False   \n",
      "5039     False    False           False    True        True   \n",
      "5040     False    False            True   False       False   \n",
      "5041     False    False           False    True       False   \n",
      "5042     False    False           False   False       False   \n",
      "\n",
      "      actor_2_facebook_likes  imdb_score  aspect_ratio  movie_facebook_likes  \n",
      "0                      False       False         False                 False  \n",
      "1                      False       False         False                 False  \n",
      "2                      False       False         False                 False  \n",
      "3                      False       False         False                 False  \n",
      "4                      False       False          True                 False  \n",
      "...                      ...         ...           ...                   ...  \n",
      "5038                   False       False          True                 False  \n",
      "5039                   False       False         False                 False  \n",
      "5040                   False       False          True                 False  \n",
      "5041                   False       False         False                 False  \n",
      "5042                   False       False         False                 False  \n",
      "\n",
      "[5043 rows x 28 columns]\n",
      "      color  director_name  num_critic_for_reviews  duration  \\\n",
      "0      True           True                    True      True   \n",
      "1      True           True                    True      True   \n",
      "2      True           True                    True      True   \n",
      "3      True           True                    True      True   \n",
      "4     False           True                   False     False   \n",
      "...     ...            ...                     ...       ...   \n",
      "5038   True           True                    True      True   \n",
      "5039   True          False                    True      True   \n",
      "5040   True           True                    True      True   \n",
      "5041   True           True                    True      True   \n",
      "5042   True           True                    True      True   \n",
      "\n",
      "      director_facebook_likes  actor_3_facebook_likes  actor_2_name  \\\n",
      "0                        True                    True          True   \n",
      "1                        True                    True          True   \n",
      "2                        True                    True          True   \n",
      "3                        True                    True          True   \n",
      "4                        True                   False          True   \n",
      "...                       ...                     ...           ...   \n",
      "5038                     True                    True          True   \n",
      "5039                    False                    True          True   \n",
      "5040                     True                    True          True   \n",
      "5041                     True                    True          True   \n",
      "5042                     True                    True          True   \n",
      "\n",
      "      actor_1_facebook_likes  gross  genres  ...  num_user_for_reviews  \\\n",
      "0                       True   True    True  ...                  True   \n",
      "1                       True   True    True  ...                  True   \n",
      "2                       True   True    True  ...                  True   \n",
      "3                       True   True    True  ...                  True   \n",
      "4                       True  False    True  ...                 False   \n",
      "...                      ...    ...     ...  ...                   ...   \n",
      "5038                    True  False    True  ...                  True   \n",
      "5039                    True  False    True  ...                  True   \n",
      "5040                    True  False    True  ...                  True   \n",
      "5041                    True   True    True  ...                  True   \n",
      "5042                    True   True    True  ...                  True   \n",
      "\n",
      "      language  country  content_rating  budget  title_year  \\\n",
      "0         True     True            True    True        True   \n",
      "1         True     True            True    True        True   \n",
      "2         True     True            True    True        True   \n",
      "3         True     True            True    True        True   \n",
      "4        False    False           False   False       False   \n",
      "...        ...      ...             ...     ...         ...   \n",
      "5038      True     True           False   False        True   \n",
      "5039      True     True            True   False       False   \n",
      "5040      True     True           False    True        True   \n",
      "5041      True     True            True   False        True   \n",
      "5042      True     True            True    True        True   \n",
      "\n",
      "      actor_2_facebook_likes  imdb_score  aspect_ratio  movie_facebook_likes  \n",
      "0                       True        True          True                  True  \n",
      "1                       True        True          True                  True  \n",
      "2                       True        True          True                  True  \n",
      "3                       True        True          True                  True  \n",
      "4                       True        True         False                  True  \n",
      "...                      ...         ...           ...                   ...  \n",
      "5038                    True        True         False                  True  \n",
      "5039                    True        True          True                  True  \n",
      "5040                    True        True         False                  True  \n",
      "5041                    True        True          True                  True  \n",
      "5042                    True        True          True                  True  \n",
      "\n",
      "[5043 rows x 28 columns]\n"
     ]
    }
   ],
   "source": [
    "\n",
    "print(df.isnull()) # it gives false if data presents ,true for data empty\n",
    "\n",
    "print(df.notnull()) #it gives false if data absent ,true for data present\n",
    "\n",
    "\n"
   ]
  },
  {
   "cell_type": "code",
   "execution_count": 10,
   "id": "313c409b",
   "metadata": {},
   "outputs": [
    {
     "name": "stdout",
     "output_type": "stream",
     "text": [
      "color                         19\n",
      "director_name                104\n",
      "num_critic_for_reviews        50\n",
      "duration                      15\n",
      "director_facebook_likes      104\n",
      "actor_3_facebook_likes        23\n",
      "actor_2_name                  13\n",
      "actor_1_facebook_likes         7\n",
      "gross                        884\n",
      "genres                         0\n",
      "actor_1_name                   7\n",
      "movie_title                    0\n",
      "num_voted_users                0\n",
      "cast_total_facebook_likes      0\n",
      "actor_3_name                  23\n",
      "facenumber_in_poster          13\n",
      "plot_keywords                153\n",
      "movie_imdb_link                0\n",
      "num_user_for_reviews          21\n",
      "language                      12\n",
      "country                        5\n",
      "content_rating               303\n",
      "budget                       492\n",
      "title_year                   108\n",
      "actor_2_facebook_likes        13\n",
      "imdb_score                     0\n",
      "aspect_ratio                 329\n",
      "movie_facebook_likes           0\n",
      "dtype: int64\n"
     ]
    }
   ],
   "source": [
    "print(df.isnull().sum())  \n",
    "# gives the data how many null values are present\n"
   ]
  },
  {
   "cell_type": "code",
   "execution_count": 11,
   "id": "8e335842",
   "metadata": {},
   "outputs": [
    {
     "name": "stdout",
     "output_type": "stream",
     "text": [
      "0    USA\n",
      "1    USA\n",
      "2     UK\n",
      "3    USA\n",
      "4    NaN\n",
      "Name: country, dtype: object\n"
     ]
    }
   ],
   "source": [
    "print(df[\"country\"].head())"
   ]
  },
  {
   "cell_type": "code",
   "execution_count": 12,
   "id": "938b103d",
   "metadata": {},
   "outputs": [
    {
     "name": "stdout",
     "output_type": "stream",
     "text": [
      "0    USA\n",
      "1    USA\n",
      "2     UK\n",
      "3    USA\n",
      "4    USA\n",
      "Name: country, dtype: object\n"
     ]
    }
   ],
   "source": [
    "df.country = df.country.fillna(df.country.mode()[0])\n",
    "# repeated data will be filled in place of NAN as it is text data\n",
    "print(df[\"country\"].head())"
   ]
  },
  {
   "cell_type": "code",
   "execution_count": null,
   "id": "f93fed72",
   "metadata": {},
   "outputs": [],
   "source": []
  },
  {
   "cell_type": "code",
   "execution_count": 13,
   "id": "751f5b26",
   "metadata": {},
   "outputs": [
    {
     "name": "stdout",
     "output_type": "stream",
     "text": [
      "0    USA\n",
      "1    USA\n",
      "2     UK\n",
      "3    USA\n",
      "4    USA\n",
      "Name: country, dtype: object\n"
     ]
    }
   ],
   "source": [
    "df.country=df.country.fillna(\"INDIA\") \n",
    "# NAN  place will be filled with india\n",
    "print(df[\"country\"].head())\n"
   ]
  },
  {
   "cell_type": "code",
   "execution_count": 14,
   "id": "f2a96439",
   "metadata": {},
   "outputs": [
    {
     "name": "stdout",
     "output_type": "stream",
     "text": [
      "15\n"
     ]
    }
   ],
   "source": [
    "print(df.duration.isnull().sum())"
   ]
  },
  {
   "cell_type": "code",
   "execution_count": 15,
   "id": "bc0d478a",
   "metadata": {},
   "outputs": [
    {
     "name": "stdout",
     "output_type": "stream",
     "text": [
      "Mean of duration: 107.2010739856802\n"
     ]
    }
   ],
   "source": [
    "print(\"Mean of duration:\",df.duration.mean())\n",
    "# mean of one column\n"
   ]
  },
  {
   "cell_type": "code",
   "execution_count": 16,
   "id": "23ef19aa",
   "metadata": {},
   "outputs": [
    {
     "name": "stdout",
     "output_type": "stream",
     "text": [
      "0       178.000000\n",
      "1       169.000000\n",
      "2       148.000000\n",
      "3       164.000000\n",
      "4       107.201074\n",
      "           ...    \n",
      "5038     87.000000\n",
      "5039     43.000000\n",
      "5040     76.000000\n",
      "5041    100.000000\n",
      "5042     90.000000\n",
      "Name: duration, Length: 5043, dtype: float64\n"
     ]
    }
   ],
   "source": [
    "df.duration=df.duration.fillna(df.duration.mean())\n",
    "print(df.duration)"
   ]
  },
  {
   "cell_type": "code",
   "execution_count": 20,
   "id": "930d0121",
   "metadata": {},
   "outputs": [
    {
     "name": "stdout",
     "output_type": "stream",
     "text": [
      "0\n"
     ]
    }
   ],
   "source": [
    "print(df.duration.isnull().sum())"
   ]
  },
  {
   "cell_type": "code",
   "execution_count": 22,
   "id": "2b30b71e",
   "metadata": {},
   "outputs": [
    {
     "name": "stdout",
     "output_type": "stream",
     "text": [
      "0        JAMES CAMERON\n",
      "1       GORE VERBINSKI\n",
      "2           SAM MENDES\n",
      "3    CHRISTOPHER NOLAN\n",
      "4          DOUG WALKER\n",
      "5       ANDREW STANTON\n",
      "6            SAM RAIMI\n",
      "7         NATHAN GRENO\n",
      "8          JOSS WHEDON\n",
      "9          DAVID YATES\n",
      "Name: director_name, dtype: object\n"
     ]
    }
   ],
   "source": [
    "dt=df.director_name.str.upper() \n",
    "#converts letters into upper\n",
    "print(dt.head(10))"
   ]
  },
  {
   "cell_type": "code",
   "execution_count": 23,
   "id": "ca17222e",
   "metadata": {},
   "outputs": [
    {
     "name": "stdout",
     "output_type": "stream",
     "text": [
      "0                                           Avatar\n",
      "1         Pirates of the Caribbean: At World's End\n",
      "2                                          Spectre\n",
      "3                            The Dark Knight Rises\n",
      "4       Star Wars: Episode VII - The Force Awakens\n",
      "                           ...                    \n",
      "5038                       Signed Sealed Delivered\n",
      "5039                                 The Following\n",
      "5040                          A Plague So Pleasant\n",
      "5041                              Shanghai Calling\n",
      "5042                             My Date with Drew\n",
      "Name: movie_title, Length: 5043, dtype: object\n"
     ]
    }
   ],
   "source": [
    "print(df.movie_title.str.strip()) \n",
    "#remove with spaces\n"
   ]
  },
  {
   "cell_type": "code",
   "execution_count": 24,
   "id": "4a6137ca",
   "metadata": {},
   "outputs": [
    {
     "name": "stdout",
     "output_type": "stream",
     "text": [
      "   color           director  reviews    duration  director_facebook_likes  \\\n",
      "0  Color      James Cameron    723.0  178.000000                      0.0   \n",
      "1  Color     Gore Verbinski    302.0  169.000000                    563.0   \n",
      "2  Color         Sam Mendes    602.0  148.000000                      0.0   \n",
      "3  Color  Christopher Nolan    813.0  164.000000                  22000.0   \n",
      "4    NaN        Doug Walker      NaN  107.201074                    131.0   \n",
      "5  Color     Andrew Stanton    462.0  132.000000                    475.0   \n",
      "6  Color          Sam Raimi    392.0  156.000000                      0.0   \n",
      "7  Color       Nathan Greno    324.0  100.000000                     15.0   \n",
      "8  Color        Joss Whedon    635.0  141.000000                      0.0   \n",
      "9  Color        David Yates    375.0  153.000000                    282.0   \n",
      "\n",
      "   actor_3_facebook_likes       actor_2_name  actor_1_facebook_likes  \\\n",
      "0                   855.0   Joel David Moore                  1000.0   \n",
      "1                  1000.0      Orlando Bloom                 40000.0   \n",
      "2                   161.0       Rory Kinnear                 11000.0   \n",
      "3                 23000.0     Christian Bale                 27000.0   \n",
      "4                     NaN         Rob Walker                   131.0   \n",
      "5                   530.0    Samantha Morton                   640.0   \n",
      "6                  4000.0       James Franco                 24000.0   \n",
      "7                   284.0       Donna Murphy                   799.0   \n",
      "8                 19000.0  Robert Downey Jr.                 26000.0   \n",
      "9                 10000.0   Daniel Radcliffe                 25000.0   \n",
      "\n",
      "         gross                                             genres  ...  \\\n",
      "0  760505847.0                    Action|Adventure|Fantasy|Sci-Fi  ...   \n",
      "1  309404152.0                           Action|Adventure|Fantasy  ...   \n",
      "2  200074175.0                          Action|Adventure|Thriller  ...   \n",
      "3  448130642.0                                    Action|Thriller  ...   \n",
      "4          NaN                                        Documentary  ...   \n",
      "5   73058679.0                            Action|Adventure|Sci-Fi  ...   \n",
      "6  336530303.0                           Action|Adventure|Romance  ...   \n",
      "7  200807262.0  Adventure|Animation|Comedy|Family|Fantasy|Musi...  ...   \n",
      "8  458991599.0                            Action|Adventure|Sci-Fi  ...   \n",
      "9  301956980.0                   Adventure|Family|Fantasy|Mystery  ...   \n",
      "\n",
      "  num_user_for_reviews language  country  content_rating       budget  \\\n",
      "0               3054.0  English      USA           PG-13  237000000.0   \n",
      "1               1238.0  English      USA           PG-13  300000000.0   \n",
      "2                994.0  English       UK           PG-13  245000000.0   \n",
      "3               2701.0  English      USA           PG-13  250000000.0   \n",
      "4                  NaN      NaN      USA             NaN          NaN   \n",
      "5                738.0  English      USA           PG-13  263700000.0   \n",
      "6               1902.0  English      USA           PG-13  258000000.0   \n",
      "7                387.0  English      USA              PG  260000000.0   \n",
      "8               1117.0  English      USA           PG-13  250000000.0   \n",
      "9                973.0  English       UK              PG  250000000.0   \n",
      "\n",
      "   title_year actor_2_facebook_likes imdb_score  aspect_ratio FB_likes  \n",
      "0      2009.0                  936.0        7.9          1.78    33000  \n",
      "1      2007.0                 5000.0        7.1          2.35        0  \n",
      "2      2015.0                  393.0        6.8          2.35    85000  \n",
      "3      2012.0                23000.0        8.5          2.35   164000  \n",
      "4         NaN                   12.0        7.1           NaN        0  \n",
      "5      2012.0                  632.0        6.6          2.35    24000  \n",
      "6      2007.0                11000.0        6.2          2.35        0  \n",
      "7      2010.0                  553.0        7.8          1.85    29000  \n",
      "8      2015.0                21000.0        7.5          2.35   118000  \n",
      "9      2009.0                11000.0        7.5          2.35    10000  \n",
      "\n",
      "[10 rows x 28 columns]\n"
     ]
    }
   ],
   "source": [
    "dfnew=df.rename(columns={'director_name':'director',\n",
    "                         'num_critic_for_reviews':'reviews',\n",
    "                         'movie_facebook_likes':'FB_likes'})\n",
    "print(dfnew.head(10))"
   ]
  },
  {
   "cell_type": "code",
   "execution_count": null,
   "id": "0b0ba7de",
   "metadata": {},
   "outputs": [],
   "source": [
    "#  dfnew.to_csv(\"cleanmovie1.csv\") \n",
    "# new csv file will be created in same path\n"
   ]
  },
  {
   "cell_type": "code",
   "execution_count": 25,
   "id": "996b412d",
   "metadata": {},
   "outputs": [
    {
     "name": "stdout",
     "output_type": "stream",
     "text": [
      "0    178.000000\n",
      "1    169.000000\n",
      "2    148.000000\n",
      "3    164.000000\n",
      "4    107.201074\n",
      "5    132.000000\n",
      "6    156.000000\n",
      "7    100.000000\n",
      "8    141.000000\n",
      "9    153.000000\n",
      "Name: duration, dtype: float64\n"
     ]
    }
   ],
   "source": [
    "print(df.duration.head(10))"
   ]
  },
  {
   "cell_type": "code",
   "execution_count": 27,
   "id": "6b9e6e8f",
   "metadata": {},
   "outputs": [
    {
     "name": "stdout",
     "output_type": "stream",
     "text": [
      "2345     7.0\n",
      "1947     7.0\n",
      "4079    11.0\n",
      "4673    14.0\n",
      "4439    20.0\n",
      "279     22.0\n",
      "4803    22.0\n",
      "833     22.0\n",
      "4281    22.0\n",
      "1842    22.0\n",
      "Name: duration, dtype: float64\n"
     ]
    }
   ],
   "source": [
    "dt=df.sort_values(by='duration')\n",
    "\n",
    "print(dt.duration.head(10))"
   ]
  },
  {
   "cell_type": "code",
   "execution_count": 28,
   "id": "aadd6fd6",
   "metadata": {},
   "outputs": [
    {
     "name": "stdout",
     "output_type": "stream",
     "text": [
      "1710    511.0\n",
      "2466    334.0\n",
      "1501    330.0\n",
      "1144    325.0\n",
      "3311    300.0\n",
      "2970    293.0\n",
      "1571    289.0\n",
      "2727    286.0\n",
      "883     280.0\n",
      "1980    271.0\n",
      "Name: duration, dtype: float64\n"
     ]
    }
   ],
   "source": [
    "da=df.sort_values(by=['duration'],ascending=False)\n",
    "print(da.duration.head(10))"
   ]
  },
  {
   "cell_type": "code",
   "execution_count": 29,
   "id": "72ae38f3",
   "metadata": {},
   "outputs": [
    {
     "data": {
      "text/plain": [
       "color                         19\n",
       "director_name                104\n",
       "num_critic_for_reviews        50\n",
       "duration                       0\n",
       "director_facebook_likes      104\n",
       "actor_3_facebook_likes        23\n",
       "actor_2_name                  13\n",
       "actor_1_facebook_likes         7\n",
       "gross                        884\n",
       "genres                         0\n",
       "actor_1_name                   7\n",
       "movie_title                    0\n",
       "num_voted_users                0\n",
       "cast_total_facebook_likes      0\n",
       "actor_3_name                  23\n",
       "facenumber_in_poster          13\n",
       "plot_keywords                153\n",
       "movie_imdb_link                0\n",
       "num_user_for_reviews          21\n",
       "language                      12\n",
       "country                        0\n",
       "content_rating               303\n",
       "budget                       492\n",
       "title_year                   108\n",
       "actor_2_facebook_likes        13\n",
       "imdb_score                     0\n",
       "aspect_ratio                 329\n",
       "movie_facebook_likes           0\n",
       "dtype: int64"
      ]
     },
     "execution_count": 29,
     "metadata": {},
     "output_type": "execute_result"
    }
   ],
   "source": [
    "df.isnull().sum()"
   ]
  },
  {
   "cell_type": "code",
   "execution_count": null,
   "id": "9fc8b625",
   "metadata": {},
   "outputs": [],
   "source": []
  },
  {
   "cell_type": "code",
   "execution_count": null,
   "id": "21800c53",
   "metadata": {},
   "outputs": [],
   "source": []
  },
  {
   "cell_type": "code",
   "execution_count": null,
   "id": "3b6be504",
   "metadata": {},
   "outputs": [],
   "source": []
  },
  {
   "cell_type": "code",
   "execution_count": null,
   "id": "2dc1eb0b",
   "metadata": {},
   "outputs": [],
   "source": []
  },
  {
   "cell_type": "code",
   "execution_count": null,
   "id": "ef5dd453",
   "metadata": {},
   "outputs": [],
   "source": []
  }
 ],
 "metadata": {
  "kernelspec": {
   "display_name": "Python 3 (ipykernel)",
   "language": "python",
   "name": "python3"
  },
  "language_info": {
   "codemirror_mode": {
    "name": "ipython",
    "version": 3
   },
   "file_extension": ".py",
   "mimetype": "text/x-python",
   "name": "python",
   "nbconvert_exporter": "python",
   "pygments_lexer": "ipython3",
   "version": "3.9.7"
  }
 },
 "nbformat": 4,
 "nbformat_minor": 5
}
