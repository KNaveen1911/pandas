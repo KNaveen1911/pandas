{
 "cells": [
  {
   "cell_type": "code",
   "execution_count": 1,
   "id": "f372b5c9",
   "metadata": {},
   "outputs": [],
   "source": [
    "import pandas as pd"
   ]
  },
  {
   "cell_type": "code",
   "execution_count": 6,
   "id": "17edbbaf",
   "metadata": {},
   "outputs": [],
   "source": [
    "df=pd.read_csv(\"data/Admission_prediction.csv\")"
   ]
  },
  {
   "cell_type": "code",
   "execution_count": 4,
   "id": "578b6ba4",
   "metadata": {},
   "outputs": [
    {
     "name": "stdout",
     "output_type": "stream",
     "text": [
      "   Serial No.  GRE Score  TOEFL Score  University Rating  SOP  LOR  CGPA  \\\n",
      "0           1      337.0        118.0                4.0  4.5  4.5  9.65   \n",
      "1           2      324.0        107.0                4.0  4.0  4.5  8.87   \n",
      "2           3        NaN        104.0                3.0  3.0  3.5  8.00   \n",
      "3           4      322.0        110.0                3.0  3.5  2.5  8.67   \n",
      "4           5      314.0        103.0                2.0  2.0  3.0  8.21   \n",
      "\n",
      "   Research  Chance of Admit  \n",
      "0         1             0.92  \n",
      "1         1             0.76  \n",
      "2         1             0.72  \n",
      "3         1             0.80  \n",
      "4         0             0.65  \n"
     ]
    }
   ],
   "source": [
    "print(df.head())"
   ]
  },
  {
   "cell_type": "code",
   "execution_count": 7,
   "id": "dfce3dfb",
   "metadata": {},
   "outputs": [
    {
     "name": "stdout",
     "output_type": "stream",
     "text": [
      "<class 'pandas.core.frame.DataFrame'>\n",
      "RangeIndex: 500 entries, 0 to 499\n",
      "Data columns (total 9 columns):\n",
      " #   Column             Non-Null Count  Dtype  \n",
      "---  ------             --------------  -----  \n",
      " 0   Serial No.         500 non-null    int64  \n",
      " 1   GRE Score          485 non-null    float64\n",
      " 2   TOEFL Score        490 non-null    float64\n",
      " 3   University Rating  485 non-null    float64\n",
      " 4   SOP                500 non-null    float64\n",
      " 5   LOR                500 non-null    float64\n",
      " 6   CGPA               500 non-null    float64\n",
      " 7   Research           500 non-null    int64  \n",
      " 8   Chance of Admit    500 non-null    float64\n",
      "dtypes: float64(7), int64(2)\n",
      "memory usage: 35.3 KB\n",
      "None\n"
     ]
    }
   ],
   "source": [
    "print(df.info())"
   ]
  },
  {
   "cell_type": "code",
   "execution_count": 8,
   "id": "47bde608",
   "metadata": {},
   "outputs": [
    {
     "data": {
      "text/plain": [
       "Serial No.            0\n",
       "GRE Score            15\n",
       "TOEFL Score          10\n",
       "University Rating    15\n",
       "SOP                   0\n",
       "LOR                   0\n",
       "CGPA                  0\n",
       "Research              0\n",
       "Chance of Admit       0\n",
       "dtype: int64"
      ]
     },
     "execution_count": 8,
     "metadata": {},
     "output_type": "execute_result"
    }
   ],
   "source": [
    "df.isnull().sum()"
   ]
  },
  {
   "cell_type": "code",
   "execution_count": 9,
   "id": "41c318ee",
   "metadata": {},
   "outputs": [],
   "source": [
    "df['GRE Score']=df['GRE Score'].fillna(df['GRE Score'].mean())\n",
    "df['TOEFL Score']=df['TOEFL Score'].fillna(df['TOEFL Score'].mean())\n",
    "df['University Rating']=df['University Rating'].fillna(df['University Rating'].mean())\n"
   ]
  },
  {
   "cell_type": "code",
   "execution_count": 10,
   "id": "34328eaf",
   "metadata": {},
   "outputs": [
    {
     "name": "stdout",
     "output_type": "stream",
     "text": [
      "Serial No.           0\n",
      "GRE Score            0\n",
      "TOEFL Score          0\n",
      "University Rating    0\n",
      "SOP                  0\n",
      "LOR                  0\n",
      "CGPA                 0\n",
      "Research             0\n",
      "Chance of Admit      0\n",
      "dtype: int64\n"
     ]
    }
   ],
   "source": [
    "print(df.isnull().sum())"
   ]
  },
  {
   "cell_type": "code",
   "execution_count": 11,
   "id": "682fdf87",
   "metadata": {},
   "outputs": [],
   "source": [
    "df.to_csv(\"data/cleaned data/adpd1.csv\")"
   ]
  },
  {
   "cell_type": "code",
   "execution_count": null,
   "id": "67defa15",
   "metadata": {},
   "outputs": [],
   "source": []
  }
 ],
 "metadata": {
  "kernelspec": {
   "display_name": "Python 3 (ipykernel)",
   "language": "python",
   "name": "python3"
  },
  "language_info": {
   "codemirror_mode": {
    "name": "ipython",
    "version": 3
   },
   "file_extension": ".py",
   "mimetype": "text/x-python",
   "name": "python",
   "nbconvert_exporter": "python",
   "pygments_lexer": "ipython3",
   "version": "3.9.7"
  }
 },
 "nbformat": 4,
 "nbformat_minor": 5
}
