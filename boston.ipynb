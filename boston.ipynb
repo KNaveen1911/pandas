{
 "cells": [
  {
   "cell_type": "code",
   "execution_count": 1,
   "id": "7231b620",
   "metadata": {},
   "outputs": [],
   "source": [
    "import pandas as pd\n",
    "df=pd.read_csv(\"data/boston.csv\")"
   ]
  },
  {
   "cell_type": "code",
   "execution_count": 3,
   "id": "979f6e8e",
   "metadata": {},
   "outputs": [
    {
     "name": "stdout",
     "output_type": "stream",
     "text": [
      "   roll.no     crim    zn  indus  chas    nox     rm   age     dis  rad  \\\n",
      "0      1.0  0.00632  18.0   2.31   0.0  0.538  6.575  65.2  4.0900  1.0   \n",
      "1      2.0  0.02731   0.0   7.07   0.0  0.469  6.421  78.9  4.9671  2.0   \n",
      "2      3.0  0.02729   0.0   7.07   0.0  0.469  7.185  61.1  4.9671  2.0   \n",
      "3      4.0  0.03237   0.0   2.18   0.0  0.458  6.998  45.8  6.0622  3.0   \n",
      "4      5.0  0.06905   0.0   2.18   0.0  0.458  7.147  54.2  6.0622  3.0   \n",
      "\n",
      "     tax  ptratio   black  lstat  medv  \n",
      "0  296.0     15.3  396.90   4.98  24.0  \n",
      "1  242.0     17.8  396.90   9.14  21.6  \n",
      "2  242.0     17.8  392.83   4.03  34.7  \n",
      "3  222.0     18.7  394.63   2.94  33.4  \n",
      "4  222.0     18.7  396.90   5.33  36.2  \n"
     ]
    }
   ],
   "source": [
    "print(df.head(5))"
   ]
  },
  {
   "cell_type": "code",
   "execution_count": 4,
   "id": "b1af4fa9",
   "metadata": {},
   "outputs": [
    {
     "name": "stdout",
     "output_type": "stream",
     "text": [
      "<class 'pandas.core.frame.DataFrame'>\n",
      "RangeIndex: 506 entries, 0 to 505\n",
      "Data columns (total 15 columns):\n",
      " #   Column   Non-Null Count  Dtype  \n",
      "---  ------   --------------  -----  \n",
      " 0   roll.no  504 non-null    float64\n",
      " 1   crim     456 non-null    float64\n",
      " 2   zn       502 non-null    float64\n",
      " 3   indus    499 non-null    float64\n",
      " 4   chas     502 non-null    float64\n",
      " 5   nox      504 non-null    float64\n",
      " 6   rm       496 non-null    float64\n",
      " 7   age      503 non-null    float64\n",
      " 8   dis      495 non-null    float64\n",
      " 9   rad      503 non-null    float64\n",
      " 10  tax      504 non-null    float64\n",
      " 11  ptratio  503 non-null    float64\n",
      " 12  black    493 non-null    float64\n",
      " 13  lstat    497 non-null    float64\n",
      " 14  medv     497 non-null    float64\n",
      "dtypes: float64(15)\n",
      "memory usage: 59.4 KB\n",
      "None\n"
     ]
    }
   ],
   "source": [
    "print(df.info())"
   ]
  },
  {
   "cell_type": "code",
   "execution_count": 5,
   "id": "c1434d9d",
   "metadata": {},
   "outputs": [
    {
     "name": "stdout",
     "output_type": "stream",
     "text": [
      "roll.no     2\n",
      "crim       50\n",
      "zn          4\n",
      "indus       7\n",
      "chas        4\n",
      "nox         2\n",
      "rm         10\n",
      "age         3\n",
      "dis        11\n",
      "rad         3\n",
      "tax         2\n",
      "ptratio     3\n",
      "black      13\n",
      "lstat       9\n",
      "medv        9\n",
      "dtype: int64\n"
     ]
    }
   ],
   "source": [
    "print(df.isnull().sum())"
   ]
  },
  {
   "cell_type": "code",
   "execution_count": 6,
   "id": "98b15e2f",
   "metadata": {},
   "outputs": [],
   "source": [
    "df.crim=df.crim.fillna(df.crim.mean())"
   ]
  },
  {
   "cell_type": "code",
   "execution_count": 7,
   "id": "9ae9d87b",
   "metadata": {},
   "outputs": [],
   "source": [
    "df.black=df.black.fillna(df.black.mean())"
   ]
  },
  {
   "cell_type": "code",
   "execution_count": 8,
   "id": "f1015dbb",
   "metadata": {},
   "outputs": [],
   "source": [
    "df.dis=df.dis.fillna(df.dis.mean())"
   ]
  },
  {
   "cell_type": "code",
   "execution_count": 9,
   "id": "54925cff",
   "metadata": {},
   "outputs": [],
   "source": [
    "df.rm=df.rm.fillna(df.rm.mean())"
   ]
  },
  {
   "cell_type": "code",
   "execution_count": 14,
   "id": "93afeb13",
   "metadata": {},
   "outputs": [
    {
     "name": "stdout",
     "output_type": "stream",
     "text": [
      "roll.no    2\n",
      "crim       0\n",
      "zn         4\n",
      "indus      7\n",
      "chas       4\n",
      "nox        2\n",
      "rm         0\n",
      "age        3\n",
      "dis        0\n",
      "rad        3\n",
      "tax        2\n",
      "ptratio    3\n",
      "black      0\n",
      "lstat      9\n",
      "medv       9\n",
      "dtype: int64\n"
     ]
    }
   ],
   "source": [
    "print(df.isnull().sum())"
   ]
  },
  {
   "cell_type": "code",
   "execution_count": 18,
   "id": "96557d12",
   "metadata": {},
   "outputs": [
    {
     "name": "stdout",
     "output_type": "stream",
     "text": [
      "     roll.no     crim    zn  indus  chas    nox     rm   age       dis  rad  \\\n",
      "0        1.0  0.00632  18.0   2.31   0.0  0.538  6.575  65.2  4.090000  1.0   \n",
      "1        2.0  0.02731   0.0   7.07   0.0  0.469  6.421  78.9  4.967100  2.0   \n",
      "2        3.0  0.02729   0.0   7.07   0.0  0.469  7.185  61.1  4.967100  2.0   \n",
      "3        4.0  0.03237   0.0   2.18   0.0  0.458  6.998  45.8  6.062200  3.0   \n",
      "4        5.0  0.06905   0.0   2.18   0.0  0.458  7.147  54.2  6.062200  3.0   \n",
      "..       ...      ...   ...    ...   ...    ...    ...   ...       ...  ...   \n",
      "498    499.0  0.23912   0.0   9.69   0.0  0.585  6.019  65.3  2.409100  6.0   \n",
      "499    500.0  0.17783   0.0   9.69   0.0  0.585  5.569  73.5  2.399900  6.0   \n",
      "500    501.0  0.22438   0.0   9.69   0.0  0.585  6.027  79.7  2.498200  6.0   \n",
      "501    502.0  0.06263   0.0  11.93   0.0  0.573  6.593  69.1  2.478600  1.0   \n",
      "503    504.0  0.06076   0.0  11.93   0.0  0.573  6.976  91.0  3.806271  1.0   \n",
      "\n",
      "       tax  ptratio   black  lstat  medv  \n",
      "0    296.0     15.3  396.90   4.98  24.0  \n",
      "1    242.0     17.8  396.90   9.14  21.6  \n",
      "2    242.0     17.8  392.83   4.03  34.7  \n",
      "3    222.0     18.7  394.63   2.94  33.4  \n",
      "4    222.0     18.7  396.90   5.33  36.2  \n",
      "..     ...      ...     ...    ...   ...  \n",
      "498  391.0     19.2  396.90  12.92  21.2  \n",
      "499  391.0     19.2  395.77  15.10  17.5  \n",
      "500  391.0     19.2  396.90  14.33  16.8  \n",
      "501  273.0     21.0  391.99   9.67  22.4  \n",
      "503  273.0     21.0  396.90   5.64  23.9  \n",
      "\n",
      "[482 rows x 15 columns]\n"
     ]
    }
   ],
   "source": [
    "dt=df.dropna()\n",
    "print(dt)"
   ]
  },
  {
   "cell_type": "code",
   "execution_count": 19,
   "id": "4b16372b",
   "metadata": {},
   "outputs": [
    {
     "name": "stdout",
     "output_type": "stream",
     "text": [
      "roll.no    0\n",
      "crim       0\n",
      "zn         0\n",
      "indus      0\n",
      "chas       0\n",
      "nox        0\n",
      "rm         0\n",
      "age        0\n",
      "dis        0\n",
      "rad        0\n",
      "tax        0\n",
      "ptratio    0\n",
      "black      0\n",
      "lstat      0\n",
      "medv       0\n",
      "dtype: int64\n"
     ]
    }
   ],
   "source": [
    "print(dt.isnull().sum())"
   ]
  },
  {
   "cell_type": "code",
   "execution_count": 20,
   "id": "9d595c0c",
   "metadata": {},
   "outputs": [],
   "source": [
    "dt.to_csv(\"DATA/cleaned data/boston1.csv\")"
   ]
  },
  {
   "cell_type": "code",
   "execution_count": null,
   "id": "e4d341a6",
   "metadata": {},
   "outputs": [],
   "source": []
  }
 ],
 "metadata": {
  "kernelspec": {
   "display_name": "Python 3 (ipykernel)",
   "language": "python",
   "name": "python3"
  },
  "language_info": {
   "codemirror_mode": {
    "name": "ipython",
    "version": 3
   },
   "file_extension": ".py",
   "mimetype": "text/x-python",
   "name": "python",
   "nbconvert_exporter": "python",
   "pygments_lexer": "ipython3",
   "version": "3.9.7"
  }
 },
 "nbformat": 4,
 "nbformat_minor": 5
}
