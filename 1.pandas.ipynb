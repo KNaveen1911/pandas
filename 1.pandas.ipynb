{
 "cells": [
  {
   "cell_type": "code",
   "execution_count": 2,
   "id": "f6e7d1de",
   "metadata": {},
   "outputs": [],
   "source": [
    "import pandas as pd"
   ]
  },
  {
   "cell_type": "code",
   "execution_count": 3,
   "id": "db09388c",
   "metadata": {},
   "outputs": [],
   "source": [
    "a=[\"naveen\",\"nani\",\"kumar\",\"siva\",\"ravi\"]  # column name with indexing\n",
    "data=pd.Series(a)"
   ]
  },
  {
   "cell_type": "code",
   "execution_count": 4,
   "id": "996444f6",
   "metadata": {},
   "outputs": [
    {
     "name": "stdout",
     "output_type": "stream",
     "text": [
      "0    naveen\n",
      "1      nani\n",
      "2     kumar\n",
      "3      siva\n",
      "4      ravi\n",
      "dtype: object\n"
     ]
    }
   ],
   "source": [
    "print(data)"
   ]
  },
  {
   "cell_type": "code",
   "execution_count": 5,
   "id": "233680d6",
   "metadata": {},
   "outputs": [],
   "source": [
    "data=pd.DataFrame(a)"
   ]
  },
  {
   "cell_type": "code",
   "execution_count": 6,
   "id": "1e291190",
   "metadata": {},
   "outputs": [
    {
     "name": "stdout",
     "output_type": "stream",
     "text": [
      "        0\n",
      "0  naveen\n",
      "1    nani\n",
      "2   kumar\n",
      "3    siva\n",
      "4    ravi\n"
     ]
    }
   ],
   "source": [
    "print(data)"
   ]
  },
  {
   "cell_type": "code",
   "execution_count": 7,
   "id": "44af25cb",
   "metadata": {},
   "outputs": [],
   "source": [
    "a={\"Name\":[\"naveen\",\"nani\",\"kumar\",\"siva\",\"ravi\"],\"age\":[12,34,56,78,90],\"salary\":[12000,23000,43000,54000,11000]} \n",
    "data=pd.Series(a)"
   ]
  },
  {
   "cell_type": "code",
   "execution_count": 8,
   "id": "619c48bd",
   "metadata": {},
   "outputs": [
    {
     "name": "stdout",
     "output_type": "stream",
     "text": [
      "Name        [naveen, nani, kumar, siva, ravi]\n",
      "age                      [12, 34, 56, 78, 90]\n",
      "salary    [12000, 23000, 43000, 54000, 11000]\n",
      "dtype: object\n"
     ]
    }
   ],
   "source": [
    "print(data)"
   ]
  },
  {
   "cell_type": "code",
   "execution_count": 9,
   "id": "05eb0c1a",
   "metadata": {},
   "outputs": [],
   "source": [
    "data=pd.DataFrame(a)"
   ]
  },
  {
   "cell_type": "code",
   "execution_count": 10,
   "id": "dc401a01",
   "metadata": {},
   "outputs": [
    {
     "name": "stdout",
     "output_type": "stream",
     "text": [
      "     Name  age  salary\n",
      "0  naveen   12   12000\n",
      "1    nani   34   23000\n",
      "2   kumar   56   43000\n",
      "3    siva   78   54000\n",
      "4    ravi   90   11000\n"
     ]
    }
   ],
   "source": [
    "print(data)"
   ]
  },
  {
   "cell_type": "code",
   "execution_count": null,
   "id": "7d1355db",
   "metadata": {},
   "outputs": [],
   "source": []
  },
  {
   "cell_type": "code",
   "execution_count": 11,
   "id": "bfde5548",
   "metadata": {},
   "outputs": [],
   "source": [
    "df= pd.read_csv(\"data/crops.csv\")"
   ]
  },
  {
   "cell_type": "code",
   "execution_count": 13,
   "id": "e6a57c09",
   "metadata": {},
   "outputs": [
    {
     "name": "stdout",
     "output_type": "stream",
     "text": [
      "    crop     year   area   msp  yield(quintal)\n",
      "0   rice  2014-15  15759  1360          378216\n",
      "1   rice  2015-16  15987  1414          383688\n",
      "2   rice  2016-17  15747  1470          377928\n",
      "3   rice  2017-18  15958  1550          382992\n",
      "4   rice  2018-19  15848  1750          380352\n",
      "5  maize  2014-15   1199  1310           29975\n",
      "6  maize  2015-16   1227  1325           30675\n",
      "7  maize  2016-17   1325  1365           33125\n",
      "8  maize  2017-18   1369  1425           34225\n",
      "9  maize  2018-19    951  1700           23775\n",
      "             crop     year   area     msp  yield(quintal)\n",
      "0            rice  2014-15  15759    1360          378216\n",
      "1            rice  2015-16  15987    1414          383688\n",
      "2            rice  2016-17  15747    1470          377928\n",
      "3            rice  2017-18  15958    1550          382992\n",
      "4            rice  2018-19  15848    1750          380352\n",
      "..            ...      ...    ...     ...             ...\n",
      "95  errachandanam  2014-15      5  150000              10\n",
      "96  errachandanam  2015-16      5  160000              10\n",
      "97  errachandanam  2016-17      9  190000              10\n",
      "98  errachandanam  2017-18     10  195000              10\n",
      "99  errachandanam  2018-19     12  209000              10\n",
      "\n",
      "[100 rows x 5 columns]\n"
     ]
    }
   ],
   "source": [
    "print(df.head(10))\n",
    "print(df)"
   ]
  },
  {
   "cell_type": "markdown",
   "id": "32093db5",
   "metadata": {},
   "source": [
    "### GITHUB"
   ]
  },
  {
   "cell_type": "code",
   "execution_count": 19,
   "id": "c4b7f7d4",
   "metadata": {},
   "outputs": [
    {
     "name": "stdout",
     "output_type": "stream",
     "text": [
      "   id  season       city        date                        team1  \\\n",
      "0   1    2017  Hyderabad  2017-04-05          Sunrisers Hyderabad   \n",
      "1   2    2017       Pune  2017-04-06               Mumbai Indians   \n",
      "2   3    2017     Rajkot  2017-04-07                Gujarat Lions   \n",
      "3   4    2017     Indore  2017-04-08       Rising Pune Supergiant   \n",
      "4   5    2017  Bangalore  2017-04-08  Royal Challengers Bangalore   \n",
      "5   6    2017  Hyderabad  2017-04-09                Gujarat Lions   \n",
      "6   7    2017     Mumbai  2017-04-09        Kolkata Knight Riders   \n",
      "7   8    2017     Indore  2017-04-10  Royal Challengers Bangalore   \n",
      "8   9    2017       Pune  2017-04-11             Delhi Daredevils   \n",
      "9  10    2017     Mumbai  2017-04-12          Sunrisers Hyderabad   \n",
      "\n",
      "                         team2                  toss_winner toss_decision  \\\n",
      "0  Royal Challengers Bangalore  Royal Challengers Bangalore         field   \n",
      "1       Rising Pune Supergiant       Rising Pune Supergiant         field   \n",
      "2        Kolkata Knight Riders        Kolkata Knight Riders         field   \n",
      "3              Kings XI Punjab              Kings XI Punjab         field   \n",
      "4             Delhi Daredevils  Royal Challengers Bangalore           bat   \n",
      "5          Sunrisers Hyderabad          Sunrisers Hyderabad         field   \n",
      "6               Mumbai Indians               Mumbai Indians         field   \n",
      "7              Kings XI Punjab  Royal Challengers Bangalore           bat   \n",
      "8       Rising Pune Supergiant       Rising Pune Supergiant         field   \n",
      "9               Mumbai Indians               Mumbai Indians         field   \n",
      "\n",
      "   result  dl_applied                       winner  win_by_runs  \\\n",
      "0  normal           0          Sunrisers Hyderabad           35   \n",
      "1  normal           0       Rising Pune Supergiant            0   \n",
      "2  normal           0        Kolkata Knight Riders            0   \n",
      "3  normal           0              Kings XI Punjab            0   \n",
      "4  normal           0  Royal Challengers Bangalore           15   \n",
      "5  normal           0          Sunrisers Hyderabad            0   \n",
      "6  normal           0               Mumbai Indians            0   \n",
      "7  normal           0              Kings XI Punjab            0   \n",
      "8  normal           0             Delhi Daredevils           97   \n",
      "9  normal           0               Mumbai Indians            0   \n",
      "\n",
      "   win_by_wickets player_of_match                                      venue  \\\n",
      "0               0    Yuvraj Singh  Rajiv Gandhi International Stadium, Uppal   \n",
      "1               7       SPD Smith    Maharashtra Cricket Association Stadium   \n",
      "2              10         CA Lynn     Saurashtra Cricket Association Stadium   \n",
      "3               6      GJ Maxwell                     Holkar Cricket Stadium   \n",
      "4               0       KM Jadhav                      M Chinnaswamy Stadium   \n",
      "5               9     Rashid Khan  Rajiv Gandhi International Stadium, Uppal   \n",
      "6               4          N Rana                           Wankhede Stadium   \n",
      "7               8        AR Patel                     Holkar Cricket Stadium   \n",
      "8               0       SV Samson    Maharashtra Cricket Association Stadium   \n",
      "9               4       JJ Bumrah                           Wankhede Stadium   \n",
      "\n",
      "          umpire1        umpire2 umpire3  \n",
      "0     AY Dandekar       NJ Llong     NaN  \n",
      "1  A Nand Kishore         S Ravi     NaN  \n",
      "2     Nitin Menon      CK Nandan     NaN  \n",
      "3    AK Chaudhary  C Shamshuddin     NaN  \n",
      "4             NaN            NaN     NaN  \n",
      "5      A Deshmukh       NJ Llong     NaN  \n",
      "6     Nitin Menon      CK Nandan     NaN  \n",
      "7    AK Chaudhary  C Shamshuddin     NaN  \n",
      "8     AY Dandekar         S Ravi     NaN  \n",
      "9     Nitin Menon      CK Nandan     NaN  \n",
      "        id  season           city        date                        team1  \\\n",
      "0        1    2017      Hyderabad  2017-04-05          Sunrisers Hyderabad   \n",
      "1        2    2017           Pune  2017-04-06               Mumbai Indians   \n",
      "2        3    2017         Rajkot  2017-04-07                Gujarat Lions   \n",
      "3        4    2017         Indore  2017-04-08       Rising Pune Supergiant   \n",
      "4        5    2017      Bangalore  2017-04-08  Royal Challengers Bangalore   \n",
      "..     ...     ...            ...         ...                          ...   \n",
      "751  11347    2019         Mumbai    05/05/19        Kolkata Knight Riders   \n",
      "752  11412    2019        Chennai    07/05/19          Chennai Super Kings   \n",
      "753  11413    2019  Visakhapatnam    08/05/19          Sunrisers Hyderabad   \n",
      "754  11414    2019  Visakhapatnam    10/05/19               Delhi Capitals   \n",
      "755  11415    2019      Hyderabad    12/05/19               Mumbai Indians   \n",
      "\n",
      "                           team2                  toss_winner toss_decision  \\\n",
      "0    Royal Challengers Bangalore  Royal Challengers Bangalore         field   \n",
      "1         Rising Pune Supergiant       Rising Pune Supergiant         field   \n",
      "2          Kolkata Knight Riders        Kolkata Knight Riders         field   \n",
      "3                Kings XI Punjab              Kings XI Punjab         field   \n",
      "4               Delhi Daredevils  Royal Challengers Bangalore           bat   \n",
      "..                           ...                          ...           ...   \n",
      "751               Mumbai Indians               Mumbai Indians         field   \n",
      "752               Mumbai Indians          Chennai Super Kings           bat   \n",
      "753               Delhi Capitals               Delhi Capitals         field   \n",
      "754          Chennai Super Kings          Chennai Super Kings         field   \n",
      "755          Chennai Super Kings               Mumbai Indians           bat   \n",
      "\n",
      "     result  dl_applied                       winner  win_by_runs  \\\n",
      "0    normal           0          Sunrisers Hyderabad           35   \n",
      "1    normal           0       Rising Pune Supergiant            0   \n",
      "2    normal           0        Kolkata Knight Riders            0   \n",
      "3    normal           0              Kings XI Punjab            0   \n",
      "4    normal           0  Royal Challengers Bangalore           15   \n",
      "..      ...         ...                          ...          ...   \n",
      "751  normal           0               Mumbai Indians            0   \n",
      "752  normal           0               Mumbai Indians            0   \n",
      "753  normal           0               Delhi Capitals            0   \n",
      "754  normal           0          Chennai Super Kings            0   \n",
      "755  normal           0               Mumbai Indians            1   \n",
      "\n",
      "     win_by_wickets player_of_match  \\\n",
      "0                 0    Yuvraj Singh   \n",
      "1                 7       SPD Smith   \n",
      "2                10         CA Lynn   \n",
      "3                 6      GJ Maxwell   \n",
      "4                 0       KM Jadhav   \n",
      "..              ...             ...   \n",
      "751               9       HH Pandya   \n",
      "752               6        AS Yadav   \n",
      "753               2         RR Pant   \n",
      "754               6    F du Plessis   \n",
      "755               0       JJ Bumrah   \n",
      "\n",
      "                                         venue         umpire1  \\\n",
      "0    Rajiv Gandhi International Stadium, Uppal     AY Dandekar   \n",
      "1      Maharashtra Cricket Association Stadium  A Nand Kishore   \n",
      "2       Saurashtra Cricket Association Stadium     Nitin Menon   \n",
      "3                       Holkar Cricket Stadium    AK Chaudhary   \n",
      "4                        M Chinnaswamy Stadium             NaN   \n",
      "..                                         ...             ...   \n",
      "751                           Wankhede Stadium   Nanda Kishore   \n",
      "752                  M. A. Chidambaram Stadium     Nigel Llong   \n",
      "753                           ACA-VDCA Stadium             NaN   \n",
      "754                           ACA-VDCA Stadium   Sundaram Ravi   \n",
      "755         Rajiv Gandhi Intl. Cricket Stadium     Nitin Menon   \n",
      "\n",
      "            umpire2                  umpire3  \n",
      "0          NJ Llong                      NaN  \n",
      "1            S Ravi                      NaN  \n",
      "2         CK Nandan                      NaN  \n",
      "3     C Shamshuddin                      NaN  \n",
      "4               NaN                      NaN  \n",
      "..              ...                      ...  \n",
      "751        O Nandan                   S Ravi  \n",
      "752     Nitin Menon                Ian Gould  \n",
      "753             NaN                      NaN  \n",
      "754  Bruce Oxenford  Chettithody Shamshuddin  \n",
      "755       Ian Gould              Nigel Llong  \n",
      "\n",
      "[756 rows x 18 columns]\n"
     ]
    }
   ],
   "source": [
    "df=pd.read_csv(\"https://raw.githubusercontent.com/srinathkr07/IPL-Data-Analysis/master/matches.csv\") # raw data\n",
    "print(df.head(10))\n",
    "print(df)"
   ]
  },
  {
   "cell_type": "code",
   "execution_count": 20,
   "id": "ef774936",
   "metadata": {},
   "outputs": [
    {
     "name": "stdout",
     "output_type": "stream",
     "text": [
      "   Unnamed: 0  0      1     2     3     4    5     6     7     8     9    10  \\\n",
      "0           0  1  14.23  1.71  2.43  15.6  127  2.80  3.06  0.28  2.29  5.64   \n",
      "1           1  1  13.20  1.78  2.14  11.2  100  2.65  2.76  0.26  1.28  4.38   \n",
      "2           2  1  13.16  2.36  2.67  18.6  101  2.80  3.24  0.30  2.81  5.68   \n",
      "3           3  1  14.37  1.95  2.50  16.8  113  3.85  3.49  0.24  2.18  7.80   \n",
      "4           4  1  13.24  2.59  2.87  21.0  118  2.80  2.69  0.39  1.82  4.32   \n",
      "5           5  1  14.20  1.76  2.45  15.2  112  3.27  3.39  0.34  1.97  6.75   \n",
      "6           6  1  14.39  1.87  2.45  14.6   96  2.50  2.52  0.30  1.98  5.25   \n",
      "7           7  1  14.06  2.15  2.61  17.6  121  2.60  2.51  0.31  1.25  5.05   \n",
      "8           8  1  14.83  1.64  2.17  14.0   97  2.80  2.98  0.29  1.98  5.20   \n",
      "9           9  1  13.86  1.35  2.27  16.0   98  2.98  3.15  0.22  1.85  7.22   \n",
      "\n",
      "     11    12    13  \n",
      "0  1.04  3.92  1065  \n",
      "1  1.05  3.40  1050  \n",
      "2  1.03  3.17  1185  \n",
      "3  0.86  3.45  1480  \n",
      "4  1.04  2.93   735  \n",
      "5  1.05  2.85  1450  \n",
      "6  1.02  3.58  1290  \n",
      "7  1.06  3.58  1295  \n",
      "8  1.08  2.85  1045  \n",
      "9  1.01  3.55  1045  \n",
      "     Unnamed: 0  0      1     2     3     4    5     6     7     8     9  \\\n",
      "0             0  1  14.23  1.71  2.43  15.6  127  2.80  3.06  0.28  2.29   \n",
      "1             1  1  13.20  1.78  2.14  11.2  100  2.65  2.76  0.26  1.28   \n",
      "2             2  1  13.16  2.36  2.67  18.6  101  2.80  3.24  0.30  2.81   \n",
      "3             3  1  14.37  1.95  2.50  16.8  113  3.85  3.49  0.24  2.18   \n",
      "4             4  1  13.24  2.59  2.87  21.0  118  2.80  2.69  0.39  1.82   \n",
      "..          ... ..    ...   ...   ...   ...  ...   ...   ...   ...   ...   \n",
      "173         173  3  13.71  5.65  2.45  20.5   95  1.68  0.61  0.52  1.06   \n",
      "174         174  3  13.40  3.91  2.48  23.0  102  1.80  0.75  0.43  1.41   \n",
      "175         175  3  13.27  4.28  2.26  20.0  120  1.59  0.69  0.43  1.35   \n",
      "176         176  3  13.17  2.59  2.37  20.0  120  1.65  0.68  0.53  1.46   \n",
      "177         177  3  14.13  4.10  2.74  24.5   96  2.05  0.76  0.56  1.35   \n",
      "\n",
      "        10    11    12    13  \n",
      "0     5.64  1.04  3.92  1065  \n",
      "1     4.38  1.05  3.40  1050  \n",
      "2     5.68  1.03  3.17  1185  \n",
      "3     7.80  0.86  3.45  1480  \n",
      "4     4.32  1.04  2.93   735  \n",
      "..     ...   ...   ...   ...  \n",
      "173   7.70  0.64  1.74   740  \n",
      "174   7.30  0.70  1.56   750  \n",
      "175  10.20  0.59  1.56   835  \n",
      "176   9.30  0.60  1.62   840  \n",
      "177   9.20  0.61  1.60   560  \n",
      "\n",
      "[178 rows x 15 columns]\n"
     ]
    }
   ],
   "source": [
    "df=pd.read_csv(\"https://raw.githubusercontent.com/krishnaik06/Machine-Learning-in-90-days/master/Section%201-%20Python%20Crash%20Course/wine.csv\")\n",
    "print(df.head(10))\n",
    "print(df)"
   ]
  },
  {
   "cell_type": "code",
   "execution_count": null,
   "id": "741cc6a2",
   "metadata": {},
   "outputs": [],
   "source": []
  }
 ],
 "metadata": {
  "kernelspec": {
   "display_name": "Python 3 (ipykernel)",
   "language": "python",
   "name": "python3"
  },
  "language_info": {
   "codemirror_mode": {
    "name": "ipython",
    "version": 3
   },
   "file_extension": ".py",
   "mimetype": "text/x-python",
   "name": "python",
   "nbconvert_exporter": "python",
   "pygments_lexer": "ipython3",
   "version": "3.9.7"
  }
 },
 "nbformat": 4,
 "nbformat_minor": 5
}
